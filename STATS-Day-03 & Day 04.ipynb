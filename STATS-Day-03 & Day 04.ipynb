{
 "cells": [
  {
   "cell_type": "code",
   "execution_count": 1,
   "metadata": {},
   "outputs": [],
   "source": [
    "import numpy       as np\n",
    "import pandas      as pd\n",
    "import seaborn as sns\n",
    "import scipy.stats as st\n",
    "from scipy.stats import ttest_1samp,ttest_ind, wilcoxon,chi2_contingency,chisquare,levene,mannwhitneyu,kruskal,shapiro,bartlett\n",
    "from statsmodels.stats.power import ttest_power\n",
    "\n",
    "import matplotlib.pyplot     as     plt\n",
    "from statsmodels.stats.proportion import proportions_ztest"
   ]
  },
  {
   "cell_type": "code",
   "execution_count": 2,
   "metadata": {},
   "outputs": [],
   "source": []
  },
  {
   "cell_type": "code",
   "execution_count": 3,
   "metadata": {},
   "outputs": [],
   "source": [
    "import pydataset"
   ]
  },
  {
   "cell_type": "markdown",
   "metadata": {},
   "source": [
    "### QUE:- The food administration authority received complaints that maggi noddles pack contains lead beyond permissible limit. the ammount of lead should not exceed 190gm.conduct the hypothesis test."
   ]
  },
  {
   "cell_type": "code",
   "execution_count": 78,
   "metadata": {},
   "outputs": [
    {
     "name": "stdout",
     "output_type": "stream",
     "text": [
      "t_cal= 4.0\n",
      "t_critical= 1.6694022215079614\n",
      "reject H0 mu>190\n"
     ]
    }
   ],
   "source": [
    "##### right tail test\n",
    "\n",
    "\n",
    "mu=190\n",
    "n=64\n",
    "degree_of_freedom=n-1\n",
    "sigma=10           #std of sample is given so degree of freedom =n-1\n",
    "x_mean=185\n",
    "\n",
    "\n",
    "H0='mu<=190'       #step-1           #clam is exceeding so idealy not exceed \n",
    "H1='mu>190'\n",
    "\n",
    "alpha=0.05               #step-2\n",
    "\n",
    "t_cal=(x_mean-mu)/(sigma/np.sqrt(n))              #step-3\n",
    "\n",
    "t_cal=abs(t_cal)             #modulus use abs()\n",
    "\n",
    "t_critical=st.t.ppf(alpha,degree_of_freedom)         #step-4\n",
    "\n",
    "t_critical=abs(t_critical)\n",
    "\n",
    "print('t_cal=',t_cal)\n",
    "print('t_critical=',t_critical)\n",
    "\n",
    "\n",
    "#step-05\n",
    "### Critical value approach\n",
    "if (t_cal<t_critical):\n",
    "    print('accept Ho',H0)\n",
    "else:\n",
    "    print('reject H0',H1)\n",
    "\n"
   ]
  },
  {
   "cell_type": "code",
   "execution_count": 9,
   "metadata": {},
   "outputs": [
    {
     "name": "stdout",
     "output_type": "stream",
     "text": [
      "p_value=  0.9998438991449128\n",
      "alpha=  0.05\n",
      "accept Ho mu=280\n"
     ]
    }
   ],
   "source": [
    "# P-Value Approach\n",
    "            ## t_calculated,degree of freedom\n",
    "p_value=st.t.sf(-4,degree_of_freedom)\n",
    "\n",
    "print('p_value= ',p_value)\n",
    "print('alpha= ',alpha)\n",
    "\n",
    "if (alpha<p_value):\n",
    "    print('accept Ho',H0)\n",
    "else:\n",
    "    print('reject H0',H1)"
   ]
  },
  {
   "cell_type": "code",
   "execution_count": null,
   "metadata": {},
   "outputs": [],
   "source": []
  },
  {
   "cell_type": "code",
   "execution_count": null,
   "metadata": {},
   "outputs": [],
   "source": []
  },
  {
   "cell_type": "markdown",
   "metadata": {},
   "source": [
    "### two tail test:--"
   ]
  },
  {
   "cell_type": "code",
   "execution_count": 6,
   "metadata": {},
   "outputs": [
    {
     "name": "stdout",
     "output_type": "stream",
     "text": [
      "t_cal= 0.75\n",
      "t_critical= 2.0280940009804507\n",
      "accept H0. Thus, the inference is that  mu=280\n"
     ]
    }
   ],
   "source": [
    "mu=280\n",
    "n=36\n",
    "degree_of_freedom=n-1\n",
    "sigma=12     \n",
    "\n",
    "## while calculating sigma for smaple we use    sigma=np.std(daily_intake,ddof=1)   where ddof:--delta degree of freedom\n",
    "\n",
    "#std of sample is given so degree of freedom =n-1\n",
    "x_mean=278.5\n",
    "\n",
    "H0='mu=280'       #step-1           \n",
    "H1='mu!=280'\n",
    "\n",
    "alpha=0.05   #alpha devided into two 0.25 and 0.25 as two tail            #step-2\n",
    "\n",
    "t_cal=(x_mean-mu)/(sigma/np.sqrt(n))              #step-3\n",
    "\n",
    "t_cal=abs(t_cal)             #modulus use abs()\n",
    "\n",
    "t_critical=st.t.ppf(0.025,n)         #step-4\n",
    "\n",
    "t_critical=abs(t_critical)\n",
    "\n",
    "print('t_cal=',t_cal)\n",
    "print('t_critical=',t_critical)\n",
    "\n",
    "\n",
    "#step-05\n",
    "# Critical Value Approach\n",
    "\n",
    "if (t_cal<t_critical):\n",
    "    print('accept H0. Thus, the inference is that ',H0)\n",
    "else:\n",
    "    print('reject H0',H1)"
   ]
  },
  {
   "cell_type": "code",
   "execution_count": 7,
   "metadata": {},
   "outputs": [
    {
     "name": "stdout",
     "output_type": "stream",
     "text": [
      "accept H0. Thus, the inference is that  mu=280\n"
     ]
    }
   ],
   "source": [
    "## P-Value Approach\n",
    "p_value=st.t.cdf(-0.75,n)+st.t.sf(0.75,n) #which is less then alpha in p -value approach  so accept Ho\n",
    "if (alpha<p_value):\n",
    "    print('accept H0. Thus, the inference is that ',H0)\n",
    "else:\n",
    "    print('reject H0',H1)"
   ]
  },
  {
   "cell_type": "markdown",
   "metadata": {},
   "source": [
    "## two tail test with dataset"
   ]
  },
  {
   "cell_type": "code",
   "execution_count": 4,
   "metadata": {},
   "outputs": [],
   "source": [
    "d=pd.read_csv('cs1.csv')"
   ]
  },
  {
   "cell_type": "code",
   "execution_count": 5,
   "metadata": {},
   "outputs": [
    {
     "data": {
      "text/html": [
       "<div>\n",
       "<style scoped>\n",
       "    .dataframe tbody tr th:only-of-type {\n",
       "        vertical-align: middle;\n",
       "    }\n",
       "\n",
       "    .dataframe tbody tr th {\n",
       "        vertical-align: top;\n",
       "    }\n",
       "\n",
       "    .dataframe thead th {\n",
       "        text-align: right;\n",
       "    }\n",
       "</style>\n",
       "<table border=\"1\" class=\"dataframe\">\n",
       "  <thead>\n",
       "    <tr style=\"text-align: right;\">\n",
       "      <th></th>\n",
       "      <th>id</th>\n",
       "      <th>age</th>\n",
       "      <th>gender</th>\n",
       "      <th>region</th>\n",
       "      <th>income</th>\n",
       "      <th>married</th>\n",
       "      <th>children</th>\n",
       "      <th>car</th>\n",
       "      <th>save_act</th>\n",
       "      <th>current_act</th>\n",
       "      <th>mortgage</th>\n",
       "      <th>pl</th>\n",
       "    </tr>\n",
       "  </thead>\n",
       "  <tbody>\n",
       "    <tr>\n",
       "      <th>0</th>\n",
       "      <td>ID12101</td>\n",
       "      <td>48</td>\n",
       "      <td>FEMALE</td>\n",
       "      <td>INNER_CITY</td>\n",
       "      <td>17546.0</td>\n",
       "      <td>NO</td>\n",
       "      <td>1</td>\n",
       "      <td>NO</td>\n",
       "      <td>NO</td>\n",
       "      <td>NO</td>\n",
       "      <td>NO</td>\n",
       "      <td>YES</td>\n",
       "    </tr>\n",
       "    <tr>\n",
       "      <th>1</th>\n",
       "      <td>ID12102</td>\n",
       "      <td>40</td>\n",
       "      <td>MALE</td>\n",
       "      <td>TOWN</td>\n",
       "      <td>30085.1</td>\n",
       "      <td>YES</td>\n",
       "      <td>3</td>\n",
       "      <td>YES</td>\n",
       "      <td>NO</td>\n",
       "      <td>YES</td>\n",
       "      <td>YES</td>\n",
       "      <td>NO</td>\n",
       "    </tr>\n",
       "    <tr>\n",
       "      <th>2</th>\n",
       "      <td>ID12103</td>\n",
       "      <td>51</td>\n",
       "      <td>FEMALE</td>\n",
       "      <td>INNER_CITY</td>\n",
       "      <td>16575.4</td>\n",
       "      <td>YES</td>\n",
       "      <td>0</td>\n",
       "      <td>YES</td>\n",
       "      <td>YES</td>\n",
       "      <td>YES</td>\n",
       "      <td>NO</td>\n",
       "      <td>NO</td>\n",
       "    </tr>\n",
       "    <tr>\n",
       "      <th>3</th>\n",
       "      <td>ID12104</td>\n",
       "      <td>23</td>\n",
       "      <td>FEMALE</td>\n",
       "      <td>TOWN</td>\n",
       "      <td>20375.4</td>\n",
       "      <td>YES</td>\n",
       "      <td>3</td>\n",
       "      <td>NO</td>\n",
       "      <td>NO</td>\n",
       "      <td>YES</td>\n",
       "      <td>NO</td>\n",
       "      <td>NO</td>\n",
       "    </tr>\n",
       "    <tr>\n",
       "      <th>4</th>\n",
       "      <td>ID12105</td>\n",
       "      <td>57</td>\n",
       "      <td>FEMALE</td>\n",
       "      <td>RURAL</td>\n",
       "      <td>50576.3</td>\n",
       "      <td>YES</td>\n",
       "      <td>0</td>\n",
       "      <td>NO</td>\n",
       "      <td>YES</td>\n",
       "      <td>NO</td>\n",
       "      <td>NO</td>\n",
       "      <td>NO</td>\n",
       "    </tr>\n",
       "  </tbody>\n",
       "</table>\n",
       "</div>"
      ],
      "text/plain": [
       "        id  age  gender      region   income married  children  car save_act  \\\n",
       "0  ID12101   48  FEMALE  INNER_CITY  17546.0      NO         1   NO       NO   \n",
       "1  ID12102   40    MALE        TOWN  30085.1     YES         3  YES       NO   \n",
       "2  ID12103   51  FEMALE  INNER_CITY  16575.4     YES         0  YES      YES   \n",
       "3  ID12104   23  FEMALE        TOWN  20375.4     YES         3   NO       NO   \n",
       "4  ID12105   57  FEMALE       RURAL  50576.3     YES         0   NO      YES   \n",
       "\n",
       "  current_act mortgage   pl  \n",
       "0          NO       NO  YES  \n",
       "1         YES      YES   NO  \n",
       "2         YES       NO   NO  \n",
       "3         YES       NO   NO  \n",
       "4          NO       NO   NO  "
      ]
     },
     "execution_count": 5,
     "metadata": {},
     "output_type": "execute_result"
    }
   ],
   "source": [
    "d.head()"
   ]
  },
  {
   "cell_type": "markdown",
   "metadata": {},
   "source": [
    "### wheather the income of female and male is same or not?"
   ]
  },
  {
   "cell_type": "code",
   "execution_count": 6,
   "metadata": {},
   "outputs": [
    {
     "data": {
      "text/plain": [
       "(pandas.core.series.Series, 1     30085.10\n",
       " 6      8877.07\n",
       " 7     24946.60\n",
       " 9     24212.10\n",
       " 14    19474.60\n",
       " Name: income, dtype: float64)"
      ]
     },
     "execution_count": 6,
     "metadata": {},
     "output_type": "execute_result"
    }
   ],
   "source": [
    "### wheather the income of female and male is same or not?\n",
    "\n",
    "mi=d[d['gender']=='MALE']['income']\n",
    "type(mi),mi.head()"
   ]
  },
  {
   "cell_type": "code",
   "execution_count": 7,
   "metadata": {},
   "outputs": [
    {
     "data": {
      "text/plain": [
       "(pandas.core.series.Series, 1     30085.10\n",
       " 6      8877.07\n",
       " 7     24946.60\n",
       " 9     24212.10\n",
       " 14    19474.60\n",
       " Name: income, dtype: float64)"
      ]
     },
     "execution_count": 7,
     "metadata": {},
     "output_type": "execute_result"
    }
   ],
   "source": [
    "fi=d[d['gender']=='FEMALE']['income']\n",
    "type(mi),mi.head()"
   ]
  },
  {
   "cell_type": "code",
   "execution_count": 9,
   "metadata": {},
   "outputs": [
    {
     "data": {
      "text/plain": [
       "(27082.06017647058, 27435.078875000014)"
      ]
     },
     "execution_count": 9,
     "metadata": {},
     "output_type": "execute_result"
    }
   ],
   "source": [
    "mi.mean(),fi.mean()"
   ]
  },
  {
   "cell_type": "code",
   "execution_count": 10,
   "metadata": {},
   "outputs": [
    {
     "data": {
      "image/png": "[encoded data removed]",
      "text/plain": [
       "<Figure size 432x288 with 1 Axes>"
      ]
     },
     "metadata": {
      "needs_background": "light"
     },
     "output_type": "display_data"
    }
   ],
   "source": [
    "## 1) normality test:\n",
    "\n",
    "sns.distplot(mi)\n",
    "plt.show()                 #no normal"
   ]
  },
  {
   "cell_type": "code",
   "execution_count": 11,
   "metadata": {},
   "outputs": [
    {
     "data": {
      "image/png": "[encoded data removed]",
      "text/plain": [
       "<Figure size 432x288 with 1 Axes>"
      ]
     },
     "metadata": {
      "needs_background": "light"
     },
     "output_type": "display_data"
    }
   ],
   "source": [
    "sns.distplot(fi)\n",
    "plt.show()"
   ]
  },
  {
   "cell_type": "code",
   "execution_count": 12,
   "metadata": {},
   "outputs": [],
   "source": [
    "### from shapiro we get two hypothesis\n",
    "\n",
    "### H0: variable follow normal dist\n",
    "### H1: variable doesn't follow normal dist"
   ]
  },
  {
   "cell_type": "code",
   "execution_count": 13,
   "metadata": {},
   "outputs": [
    {
     "data": {
      "text/plain": [
       "(0.946923553943634, 5.41195868208888e-06)"
      ]
     },
     "execution_count": 13,
     "metadata": {},
     "output_type": "execute_result"
    }
   ],
   "source": [
    "shapiro(mi)               #use shapiro test for normality ,var is normal or not\n",
    "###(calculated or statistic value ,  probability or p value)\n",
    "\n",
    "### here p value which is very lesser and is less than alpha that means reject H0 and inference is variable doesn't follow normal dist"
   ]
  },
  {
   "cell_type": "code",
   "execution_count": 14,
   "metadata": {},
   "outputs": [
    {
     "data": {
      "text/plain": [
       "(0.9338082075119019, 9.223952019965509e-07)"
      ]
     },
     "execution_count": 14,
     "metadata": {},
     "output_type": "execute_result"
    }
   ],
   "source": [
    "shapiro(fi)               #use shapiro test for normality ,var is normal or not\n",
    "###(calculated or statistic value ,  probability or p value)\n",
    "\n",
    "### here p value which is very lesser and is less than alpha that means reject H0 and inference is variable doesn't follow normal dist"
   ]
  },
  {
   "cell_type": "markdown",
   "metadata": {},
   "source": [
    "### in parametric test ,we check sample is normal distributed or not for this first we shapiro test if it will fail in shapiro then we will not go further or if it find as normally distributed then vatriance and further test we will do on sample ."
   ]
  },
  {
   "cell_type": "markdown",
   "metadata": {},
   "source": [
    "### both samples are not following normal,hence we can't apply t test"
   ]
  },
  {
   "cell_type": "markdown",
   "metadata": {},
   "source": [
    "## ( A ) Variance Test:-\n",
    "###  1) sample vs population var test  ( Chi Square test)\n",
    "                           \n",
    "### 2) two sample test:--- a) Levene,      b) Bartlett      ,c) F-Test"
   ]
  },
  {
   "cell_type": "markdown",
   "metadata": {},
   "source": [
    "###  1) sample vs population var test  ( Chi Square test):--"
   ]
  },
  {
   "cell_type": "markdown",
   "metadata": {},
   "source": [
    " EXE:-- Blood group of patients of the hospital is given below:\n",
    "\n",
    "\n",
    "At 5% level of significance do you have evidence to conclude that there are differences in the distribution of blood groups among patients that is expected as per our prior knowledge."
   ]
  },
  {
   "cell_type": "code",
   "execution_count": 1,
   "metadata": {},
   "outputs": [
    {
     "data": {
      "text/html": [
       "<div>\n",
       "<style scoped>\n",
       "    .dataframe tbody tr th:only-of-type {\n",
       "        vertical-align: middle;\n",
       "    }\n",
       "\n",
       "    .dataframe tbody tr th {\n",
       "        vertical-align: top;\n",
       "    }\n",
       "\n",
       "    .dataframe thead th {\n",
       "        text-align: right;\n",
       "    }\n",
       "</style>\n",
       "<table border=\"1\" class=\"dataframe\">\n",
       "  <thead>\n",
       "    <tr style=\"text-align: right;\">\n",
       "      <th></th>\n",
       "      <th>Blood group</th>\n",
       "      <th>Count</th>\n",
       "    </tr>\n",
       "  </thead>\n",
       "  <tbody>\n",
       "    <tr>\n",
       "      <th>0</th>\n",
       "      <td>O</td>\n",
       "      <td>82.28</td>\n",
       "    </tr>\n",
       "    <tr>\n",
       "      <th>1</th>\n",
       "      <td>A</td>\n",
       "      <td>84.15</td>\n",
       "    </tr>\n",
       "    <tr>\n",
       "      <th>2</th>\n",
       "      <td>B</td>\n",
       "      <td>14.96</td>\n",
       "    </tr>\n",
       "    <tr>\n",
       "      <th>3</th>\n",
       "      <td>AB</td>\n",
       "      <td>5.60</td>\n",
       "    </tr>\n",
       "  </tbody>\n",
       "</table>\n",
       "</div>"
      ],
      "text/plain": [
       "  Blood group  Count\n",
       "0           O  82.28\n",
       "1           A  84.15\n",
       "2           B  14.96\n",
       "3          AB   5.60"
      ]
     },
     "execution_count": 1,
     "metadata": {},
     "output_type": "execute_result"
    }
   ],
   "source": [
    "observed=pd.DataFrame({'Blood group':['O','A','B','AB'],'Count':[67,83,29,8]})\n",
    "expected=pd.DataFrame({'Blood group':['O','A','B','AB'],'Count':[82.28,84.15,14.96,5.6]})\n",
    "expected"
   ]
  },
  {
   "cell_type": "code",
   "execution_count": 2,
   "metadata": {},
   "outputs": [
    {
     "data": {
      "text/html": [
       "<div>\n",
       "<style scoped>\n",
       "    .dataframe tbody tr th:only-of-type {\n",
       "        vertical-align: middle;\n",
       "    }\n",
       "\n",
       "    .dataframe tbody tr th {\n",
       "        vertical-align: top;\n",
       "    }\n",
       "\n",
       "    .dataframe thead th {\n",
       "        text-align: right;\n",
       "    }\n",
       "</style>\n",
       "<table border=\"1\" class=\"dataframe\">\n",
       "  <thead>\n",
       "    <tr style=\"text-align: right;\">\n",
       "      <th></th>\n",
       "      <th>Blood group</th>\n",
       "      <th>Count</th>\n",
       "    </tr>\n",
       "  </thead>\n",
       "  <tbody>\n",
       "    <tr>\n",
       "      <th>0</th>\n",
       "      <td>O</td>\n",
       "      <td>67</td>\n",
       "    </tr>\n",
       "    <tr>\n",
       "      <th>1</th>\n",
       "      <td>A</td>\n",
       "      <td>83</td>\n",
       "    </tr>\n",
       "    <tr>\n",
       "      <th>2</th>\n",
       "      <td>B</td>\n",
       "      <td>29</td>\n",
       "    </tr>\n",
       "    <tr>\n",
       "      <th>3</th>\n",
       "      <td>AB</td>\n",
       "      <td>8</td>\n",
       "    </tr>\n",
       "  </tbody>\n",
       "</table>\n",
       "</div>"
      ],
      "text/plain": [
       "  Blood group  Count\n",
       "0           O     67\n",
       "1           A     83\n",
       "2           B     29\n",
       "3          AB      8"
      ]
     },
     "execution_count": 2,
     "metadata": {},
     "output_type": "execute_result"
    }
   ],
   "source": [
    "observed"
   ]
  },
  {
   "cell_type": "code",
   "execution_count": 10,
   "metadata": {},
   "outputs": [
    {
     "data": {
      "text/plain": [
       "(46.75, 46.7475)"
      ]
     },
     "execution_count": 10,
     "metadata": {},
     "output_type": "execute_result"
    }
   ],
   "source": [
    "observed.Count.mean(),expected.Count.mean()"
   ]
  },
  {
   "cell_type": "code",
   "execution_count": 17,
   "metadata": {},
   "outputs": [
    {
     "data": {
      "text/plain": [
       "Power_divergenceResult(statistic=17.058473119275256, pvalue=0.0006874393492369232)"
      ]
     },
     "execution_count": 17,
     "metadata": {},
     "output_type": "execute_result"
    }
   ],
   "source": [
    "## H0:  mu of O = mu of A = mu of B = mu of AB\n",
    "## H1: mu of O != mu of A != mu of B != mu of AB\n",
    "\n",
    "\n",
    "chisquare(f_obs=observed['Count'], f_exp= expected['Count'])\n",
    "### here p value is lesser than alpha that means reject H0 and no differnece in blood group"
   ]
  },
  {
   "cell_type": "markdown",
   "metadata": {},
   "source": [
    "### 2) two sample test:--- \n",
    "### a) Levene\n",
    "### b) Bartlett      \n",
    "### c) F-Test"
   ]
  },
  {
   "cell_type": "markdown",
   "metadata": {},
   "source": [
    "### a) Levene"
   ]
  },
  {
   "cell_type": "code",
   "execution_count": 18,
   "metadata": {},
   "outputs": [
    {
     "data": {
      "text/plain": [
       "LeveneResult(statistic=0.004552939368501236, pvalue=0.9462442998451014)"
      ]
     },
     "execution_count": 18,
     "metadata": {},
     "output_type": "execute_result"
    }
   ],
   "source": [
    "## test of variance:--         #randomly selected\n",
    "\n",
    "## H0: var of MI=var of FI\n",
    "## H1:  var1 of MI !=var of FI                               ## 1) levene test\n",
    "\n",
    "levene(mi,fi)\n",
    "### here p value is higher than alpha that means accept H0 "
   ]
  },
  {
   "cell_type": "markdown",
   "metadata": {},
   "source": [
    "### b) Bartlett "
   ]
  },
  {
   "cell_type": "code",
   "execution_count": 19,
   "metadata": {},
   "outputs": [
    {
     "data": {
      "text/plain": [
       "BartlettResult(statistic=0.013210602892590333, pvalue=0.9084947510422461)"
      ]
     },
     "execution_count": 19,
     "metadata": {},
     "output_type": "execute_result"
    }
   ],
   "source": [
    "## test of variance:--         #randomly selected\n",
    "\n",
    "## H0: var of MI=var of FI\n",
    "## H1:  var1 of MI !=var of FI                                ## 2) bartlett test\n",
    "\n",
    "bartlett(mi,fi)\n",
    "### here p value is higher than alpha that means accept H0 "
   ]
  },
  {
   "cell_type": "code",
   "execution_count": null,
   "metadata": {},
   "outputs": [],
   "source": []
  },
  {
   "cell_type": "markdown",
   "metadata": {},
   "source": [
    "### 3) F-test"
   ]
  },
  {
   "cell_type": "code",
   "execution_count": 17,
   "metadata": {},
   "outputs": [
    {
     "data": {
      "text/plain": [
       "(168700816.76902875, 171698727.87947875)"
      ]
     },
     "execution_count": 17,
     "metadata": {},
     "output_type": "execute_result"
    }
   ],
   "source": [
    "np.var(mi),np.var(fi)      #similar or both variance are equal"
   ]
  },
  {
   "cell_type": "markdown",
   "metadata": {},
   "source": [
    "### both are having same variance"
   ]
  },
  {
   "cell_type": "code",
   "execution_count": null,
   "metadata": {},
   "outputs": [],
   "source": []
  },
  {
   "cell_type": "markdown",
   "metadata": {},
   "source": [
    "## ( B ) Test of mean:-- \n",
    "### 1)one sample test\n",
    "### 2) two sample unrelated test [unpaired]\n",
    "### 3) ANNOVA(analysis of variance)\n",
    "### 4) two sample related test [paired ]"
   ]
  },
  {
   "cell_type": "markdown",
   "metadata": {},
   "source": [
    "### 1) Randomness test , Reliable test, One sample t Test:--\n"
   ]
  },
  {
   "cell_type": "code",
   "execution_count": 96,
   "metadata": {},
   "outputs": [
    {
     "data": {
      "text/plain": [
       "27253.220757575764"
      ]
     },
     "execution_count": 96,
     "metadata": {},
     "output_type": "execute_result"
    }
   ],
   "source": [
    "mean_pop_in=30000\n",
    "\n",
    "## H0: mu=30000\n",
    "## H1: mu!=30000\n",
    "\n",
    "sm=d.income.mean()\n",
    "sm"
   ]
  },
  {
   "cell_type": "code",
   "execution_count": 97,
   "metadata": {},
   "outputs": [
    {
     "data": {
      "text/plain": [
       "Ttest_1sampResult(statistic=-3.819094972023381, pvalue=0.0001600749977571642)"
      ]
     },
     "execution_count": 97,
     "metadata": {},
     "output_type": "execute_result"
    }
   ],
   "source": [
    "ttest_1samp(d.income,mean_pop_in)      \n",
    "### here p value is lesser than alpha that means reject H0 i.e not equal to population or not resembles population"
   ]
  },
  {
   "cell_type": "markdown",
   "metadata": {},
   "source": [
    "### 2) two sample unrelated test [unpaired]:--"
   ]
  },
  {
   "cell_type": "code",
   "execution_count": 98,
   "metadata": {},
   "outputs": [
    {
     "data": {
      "text/plain": [
       "Ttest_indResult(statistic=-0.2449534813001663, pvalue=0.8066456277315542)"
      ]
     },
     "execution_count": 98,
     "metadata": {},
     "output_type": "execute_result"
    }
   ],
   "source": [
    "### assuming both are normal for steps follow\n",
    "\n",
    "## H0: mu of MI= mu of FI\n",
    "## H1: mu of MI != mu of FI\n",
    "\n",
    "### T-test is test of mean\n",
    "\n",
    "ttest_ind(mi,fi)\n",
    "### here p value is higher than alpha that means accept H0 "
   ]
  },
  {
   "cell_type": "markdown",
   "metadata": {},
   "source": [
    "### 3) ANOVA TEST:--(Analysis Of Variance):--\n",
    "####  ( A ) One Way ANNOVA\n",
    "####  ( B ) Two Way ANNOVA"
   ]
  },
  {
   "cell_type": "markdown",
   "metadata": {},
   "source": [
    "#### (A) One Way ANNOVA:----"
   ]
  },
  {
   "cell_type": "code",
   "execution_count": null,
   "metadata": {},
   "outputs": [],
   "source": [
    "## H0: mu of R1= mu of R2 = mu of R3\n",
    "## H1: mu of R1 != mu of R2 != mu of R3\n",
    "alpha=0.05\n",
    "\n",
    "F= MSC/MSE\n",
    "MSC=SSC/Degree of freedom of column\n",
    "SSC=sum(column no.*((mean-grand_mean)**2))"
   ]
  },
  {
   "cell_type": "code",
   "execution_count": 28,
   "metadata": {},
   "outputs": [
    {
     "data": {
      "text/plain": [
       "F_onewayResult(statistic=0.8333333333333333, pvalue=0.4871392896287469)"
      ]
     },
     "execution_count": 28,
     "metadata": {},
     "output_type": "execute_result"
    }
   ],
   "source": [
    "R1=[4,5,3]\n",
    "R2=[4,6]                       #method-1\n",
    "R3=[7,8,3]\n",
    "\n",
    "st.f_oneway(R1,R2,R3)\n",
    "### here p value is higher than alpha that means accept H0"
   ]
  },
  {
   "cell_type": "markdown",
   "metadata": {},
   "source": [
    "#### case study in ONE WAY ANOVA:-----"
   ]
  },
  {
   "cell_type": "code",
   "execution_count": 20,
   "metadata": {},
   "outputs": [],
   "source": [
    "from pydataset import data"
   ]
  },
  {
   "cell_type": "code",
   "execution_count": 21,
   "metadata": {},
   "outputs": [
    {
     "data": {
      "text/html": [
       "<div>\n",
       "<style scoped>\n",
       "    .dataframe tbody tr th:only-of-type {\n",
       "        vertical-align: middle;\n",
       "    }\n",
       "\n",
       "    .dataframe tbody tr th {\n",
       "        vertical-align: top;\n",
       "    }\n",
       "\n",
       "    .dataframe thead th {\n",
       "        text-align: right;\n",
       "    }\n",
       "</style>\n",
       "<table border=\"1\" class=\"dataframe\">\n",
       "  <thead>\n",
       "    <tr style=\"text-align: right;\">\n",
       "      <th></th>\n",
       "      <th>dataset_id</th>\n",
       "      <th>title</th>\n",
       "    </tr>\n",
       "  </thead>\n",
       "  <tbody>\n",
       "    <tr>\n",
       "      <th>0</th>\n",
       "      <td>AirPassengers</td>\n",
       "      <td>Monthly Airline Passenger Numbers 1949-1960</td>\n",
       "    </tr>\n",
       "    <tr>\n",
       "      <th>1</th>\n",
       "      <td>BJsales</td>\n",
       "      <td>Sales Data with Leading Indicator</td>\n",
       "    </tr>\n",
       "    <tr>\n",
       "      <th>2</th>\n",
       "      <td>BOD</td>\n",
       "      <td>Biochemical Oxygen Demand</td>\n",
       "    </tr>\n",
       "    <tr>\n",
       "      <th>3</th>\n",
       "      <td>Formaldehyde</td>\n",
       "      <td>Determination of Formaldehyde</td>\n",
       "    </tr>\n",
       "    <tr>\n",
       "      <th>4</th>\n",
       "      <td>HairEyeColor</td>\n",
       "      <td>Hair and Eye Color of Statistics Students</td>\n",
       "    </tr>\n",
       "    <tr>\n",
       "      <th>5</th>\n",
       "      <td>InsectSprays</td>\n",
       "      <td>Effectiveness of Insect Sprays</td>\n",
       "    </tr>\n",
       "    <tr>\n",
       "      <th>6</th>\n",
       "      <td>JohnsonJohnson</td>\n",
       "      <td>Quarterly Earnings per Johnson &amp; Johnson Share</td>\n",
       "    </tr>\n",
       "    <tr>\n",
       "      <th>7</th>\n",
       "      <td>LakeHuron</td>\n",
       "      <td>Level of Lake Huron 1875-1972</td>\n",
       "    </tr>\n",
       "    <tr>\n",
       "      <th>8</th>\n",
       "      <td>LifeCycleSavings</td>\n",
       "      <td>Intercountry Life-Cycle Savings Data</td>\n",
       "    </tr>\n",
       "    <tr>\n",
       "      <th>9</th>\n",
       "      <td>Nile</td>\n",
       "      <td>Flow of the River Nile</td>\n",
       "    </tr>\n",
       "    <tr>\n",
       "      <th>10</th>\n",
       "      <td>OrchardSprays</td>\n",
       "      <td>Potency of Orchard Sprays</td>\n",
       "    </tr>\n",
       "    <tr>\n",
       "      <th>11</th>\n",
       "      <td>PlantGrowth</td>\n",
       "      <td>Results from an Experiment on Plant Growth</td>\n",
       "    </tr>\n",
       "    <tr>\n",
       "      <th>12</th>\n",
       "      <td>Puromycin</td>\n",
       "      <td>Reaction Velocity of an Enzymatic Reaction</td>\n",
       "    </tr>\n",
       "    <tr>\n",
       "      <th>13</th>\n",
       "      <td>Titanic</td>\n",
       "      <td>Survival of passengers on the Titanic</td>\n",
       "    </tr>\n",
       "    <tr>\n",
       "      <th>14</th>\n",
       "      <td>ToothGrowth</td>\n",
       "      <td>The Effect of Vitamin C on Tooth Growth in Guinea Pigs</td>\n",
       "    </tr>\n",
       "    <tr>\n",
       "      <th>15</th>\n",
       "      <td>UCBAdmissions</td>\n",
       "      <td>Student Admissions at UC Berkeley</td>\n",
       "    </tr>\n",
       "    <tr>\n",
       "      <th>16</th>\n",
       "      <td>UKDriverDeaths</td>\n",
       "      <td>Road Casualties in Great Britain 1969-84</td>\n",
       "    </tr>\n",
       "    <tr>\n",
       "      <th>17</th>\n",
       "      <td>UKgas</td>\n",
       "      <td>UK Quarterly Gas Consumption</td>\n",
       "    </tr>\n",
       "    <tr>\n",
       "      <th>18</th>\n",
       "      <td>USAccDeaths</td>\n",
       "      <td>Accidental Deaths in the US 1973-1978</td>\n",
       "    </tr>\n",
       "    <tr>\n",
       "      <th>19</th>\n",
       "      <td>USArrests</td>\n",
       "      <td>Violent Crime Rates by US State</td>\n",
       "    </tr>\n",
       "    <tr>\n",
       "      <th>20</th>\n",
       "      <td>USJudgeRatings</td>\n",
       "      <td>Lawyers' Ratings of State Judges in the US Superior Court</td>\n",
       "    </tr>\n",
       "    <tr>\n",
       "      <th>21</th>\n",
       "      <td>USPersonalExpenditure</td>\n",
       "      <td>Personal Expenditure Data</td>\n",
       "    </tr>\n",
       "    <tr>\n",
       "      <th>22</th>\n",
       "      <td>VADeaths</td>\n",
       "      <td>Death Rates in Virginia (1940)</td>\n",
       "    </tr>\n",
       "    <tr>\n",
       "      <th>23</th>\n",
       "      <td>WWWusage</td>\n",
       "      <td>Internet Usage per Minute</td>\n",
       "    </tr>\n",
       "    <tr>\n",
       "      <th>24</th>\n",
       "      <td>WorldPhones</td>\n",
       "      <td>The World's Telephones</td>\n",
       "    </tr>\n",
       "    <tr>\n",
       "      <th>25</th>\n",
       "      <td>airmiles</td>\n",
       "      <td>Passenger Miles on Commercial US Airlines, 1937-1960</td>\n",
       "    </tr>\n",
       "    <tr>\n",
       "      <th>26</th>\n",
       "      <td>airquality</td>\n",
       "      <td>New York Air Quality Measurements</td>\n",
       "    </tr>\n",
       "    <tr>\n",
       "      <th>27</th>\n",
       "      <td>anscombe</td>\n",
       "      <td>Anscombe's Quartet of 'Identical' Simple Linear Regressions</td>\n",
       "    </tr>\n",
       "    <tr>\n",
       "      <th>28</th>\n",
       "      <td>attenu</td>\n",
       "      <td>The Joyner-Boore Attenuation Data</td>\n",
       "    </tr>\n",
       "    <tr>\n",
       "      <th>29</th>\n",
       "      <td>attitude</td>\n",
       "      <td>The Chatterjee-Price Attitude Data</td>\n",
       "    </tr>\n",
       "    <tr>\n",
       "      <th>30</th>\n",
       "      <td>austres</td>\n",
       "      <td>Quarterly Time Series of the Number of Australian Residents</td>\n",
       "    </tr>\n",
       "    <tr>\n",
       "      <th>31</th>\n",
       "      <td>cars</td>\n",
       "      <td>Speed and Stopping Distances of Cars</td>\n",
       "    </tr>\n",
       "    <tr>\n",
       "      <th>32</th>\n",
       "      <td>chickwts</td>\n",
       "      <td>Chicken Weights by Feed Type</td>\n",
       "    </tr>\n",
       "    <tr>\n",
       "      <th>33</th>\n",
       "      <td>co2</td>\n",
       "      <td>Mauna Loa Atmospheric CO2 Concentration</td>\n",
       "    </tr>\n",
       "    <tr>\n",
       "      <th>34</th>\n",
       "      <td>crimtab</td>\n",
       "      <td>Student's 3000 Criminals Data</td>\n",
       "    </tr>\n",
       "    <tr>\n",
       "      <th>35</th>\n",
       "      <td>discoveries</td>\n",
       "      <td>Yearly Numbers of Important Discoveries</td>\n",
       "    </tr>\n",
       "    <tr>\n",
       "      <th>36</th>\n",
       "      <td>esoph</td>\n",
       "      <td>Smoking, Alcohol and (O)esophageal Cancer</td>\n",
       "    </tr>\n",
       "    <tr>\n",
       "      <th>37</th>\n",
       "      <td>euro</td>\n",
       "      <td>Conversion Rates of Euro Currencies</td>\n",
       "    </tr>\n",
       "    <tr>\n",
       "      <th>38</th>\n",
       "      <td>faithful</td>\n",
       "      <td>Old Faithful Geyser Data</td>\n",
       "    </tr>\n",
       "    <tr>\n",
       "      <th>39</th>\n",
       "      <td>freeny</td>\n",
       "      <td>Freeny's Revenue Data</td>\n",
       "    </tr>\n",
       "    <tr>\n",
       "      <th>40</th>\n",
       "      <td>infert</td>\n",
       "      <td>Infertility after Spontaneous and Induced Abortion</td>\n",
       "    </tr>\n",
       "    <tr>\n",
       "      <th>41</th>\n",
       "      <td>iris</td>\n",
       "      <td>Edgar Anderson's Iris Data</td>\n",
       "    </tr>\n",
       "    <tr>\n",
       "      <th>42</th>\n",
       "      <td>islands</td>\n",
       "      <td>Areas of the World's Major Landmasses</td>\n",
       "    </tr>\n",
       "    <tr>\n",
       "      <th>43</th>\n",
       "      <td>lh</td>\n",
       "      <td>Luteinizing Hormone in Blood Samples</td>\n",
       "    </tr>\n",
       "    <tr>\n",
       "      <th>44</th>\n",
       "      <td>longley</td>\n",
       "      <td>Longley's Economic Regression Data</td>\n",
       "    </tr>\n",
       "    <tr>\n",
       "      <th>45</th>\n",
       "      <td>lynx</td>\n",
       "      <td>Annual Canadian Lynx trappings 1821-1934</td>\n",
       "    </tr>\n",
       "    <tr>\n",
       "      <th>46</th>\n",
       "      <td>morley</td>\n",
       "      <td>Michelson Speed of Light Data</td>\n",
       "    </tr>\n",
       "    <tr>\n",
       "      <th>47</th>\n",
       "      <td>mtcars</td>\n",
       "      <td>Motor Trend Car Road Tests</td>\n",
       "    </tr>\n",
       "    <tr>\n",
       "      <th>48</th>\n",
       "      <td>nhtemp</td>\n",
       "      <td>Average Yearly Temperatures in New Haven</td>\n",
       "    </tr>\n",
       "    <tr>\n",
       "      <th>49</th>\n",
       "      <td>nottem</td>\n",
       "      <td>Average Monthly Temperatures at Nottingham, 1920-1939</td>\n",
       "    </tr>\n",
       "    <tr>\n",
       "      <th>50</th>\n",
       "      <td>npk</td>\n",
       "      <td>Classical N, P, K Factorial Experiment</td>\n",
       "    </tr>\n",
       "    <tr>\n",
       "      <th>51</th>\n",
       "      <td>occupationalStatus</td>\n",
       "      <td>Occupational Status of Fathers and their Sons</td>\n",
       "    </tr>\n",
       "    <tr>\n",
       "      <th>52</th>\n",
       "      <td>precip</td>\n",
       "      <td>Annual Precipitation in US Cities</td>\n",
       "    </tr>\n",
       "    <tr>\n",
       "      <th>53</th>\n",
       "      <td>presidents</td>\n",
       "      <td>Quarterly Approval Ratings of US Presidents</td>\n",
       "    </tr>\n",
       "    <tr>\n",
       "      <th>54</th>\n",
       "      <td>pressure</td>\n",
       "      <td>Vapor Pressure of Mercury as a Function of Temperature</td>\n",
       "    </tr>\n",
       "    <tr>\n",
       "      <th>55</th>\n",
       "      <td>quakes</td>\n",
       "      <td>Locations of Earthquakes off Fiji</td>\n",
       "    </tr>\n",
       "    <tr>\n",
       "      <th>56</th>\n",
       "      <td>randu</td>\n",
       "      <td>Random Numbers from Congruential Generator RANDU</td>\n",
       "    </tr>\n",
       "    <tr>\n",
       "      <th>57</th>\n",
       "      <td>rivers</td>\n",
       "      <td>Lengths of Major North American Rivers</td>\n",
       "    </tr>\n",
       "    <tr>\n",
       "      <th>58</th>\n",
       "      <td>rock</td>\n",
       "      <td>Measurements on Petroleum Rock Samples</td>\n",
       "    </tr>\n",
       "    <tr>\n",
       "      <th>59</th>\n",
       "      <td>sleep</td>\n",
       "      <td>Student's Sleep Data</td>\n",
       "    </tr>\n",
       "    <tr>\n",
       "      <th>60</th>\n",
       "      <td>stackloss</td>\n",
       "      <td>Brownlee's Stack Loss Plant Data</td>\n",
       "    </tr>\n",
       "    <tr>\n",
       "      <th>61</th>\n",
       "      <td>sunspot.month</td>\n",
       "      <td>Monthly Sunspot Data, from 1749 to \"Present\"</td>\n",
       "    </tr>\n",
       "    <tr>\n",
       "      <th>62</th>\n",
       "      <td>sunspot.year</td>\n",
       "      <td>Yearly Sunspot Data, 1700-1988</td>\n",
       "    </tr>\n",
       "    <tr>\n",
       "      <th>63</th>\n",
       "      <td>sunspots</td>\n",
       "      <td>Monthly Sunspot Numbers, 1749-1983</td>\n",
       "    </tr>\n",
       "    <tr>\n",
       "      <th>64</th>\n",
       "      <td>swiss</td>\n",
       "      <td>Swiss Fertility and Socioeconomic Indicators (1888) Data</td>\n",
       "    </tr>\n",
       "    <tr>\n",
       "      <th>65</th>\n",
       "      <td>treering</td>\n",
       "      <td>Yearly Treering Data, -6000-1979</td>\n",
       "    </tr>\n",
       "    <tr>\n",
       "      <th>66</th>\n",
       "      <td>trees</td>\n",
       "      <td>Girth, Height and Volume for Black Cherry Trees</td>\n",
       "    </tr>\n",
       "    <tr>\n",
       "      <th>67</th>\n",
       "      <td>uspop</td>\n",
       "      <td>Populations Recorded by the US Census</td>\n",
       "    </tr>\n",
       "    <tr>\n",
       "      <th>68</th>\n",
       "      <td>volcano</td>\n",
       "      <td>Topographic Information on Auckland's Maunga Whau Volcano</td>\n",
       "    </tr>\n",
       "    <tr>\n",
       "      <th>69</th>\n",
       "      <td>warpbreaks</td>\n",
       "      <td>The Number of Breaks in Yarn during Weaving</td>\n",
       "    </tr>\n",
       "    <tr>\n",
       "      <th>70</th>\n",
       "      <td>women</td>\n",
       "      <td>Average Heights and Weights for American Women</td>\n",
       "    </tr>\n",
       "    <tr>\n",
       "      <th>71</th>\n",
       "      <td>acme</td>\n",
       "      <td>Monthly Excess Returns</td>\n",
       "    </tr>\n",
       "    <tr>\n",
       "      <th>72</th>\n",
       "      <td>aids</td>\n",
       "      <td>Delay in AIDS Reporting in England and Wales</td>\n",
       "    </tr>\n",
       "    <tr>\n",
       "      <th>73</th>\n",
       "      <td>aircondit</td>\n",
       "      <td>Failures of Air-conditioning Equipment</td>\n",
       "    </tr>\n",
       "    <tr>\n",
       "      <th>74</th>\n",
       "      <td>aircondit7</td>\n",
       "      <td>Failures of Air-conditioning Equipment</td>\n",
       "    </tr>\n",
       "    <tr>\n",
       "      <th>75</th>\n",
       "      <td>amis</td>\n",
       "      <td>Car Speeding and Warning Signs</td>\n",
       "    </tr>\n",
       "    <tr>\n",
       "      <th>76</th>\n",
       "      <td>aml</td>\n",
       "      <td>Remission Times for Acute Myelogenous Leukaemia</td>\n",
       "    </tr>\n",
       "    <tr>\n",
       "      <th>77</th>\n",
       "      <td>bigcity</td>\n",
       "      <td>Population of U.S. Cities</td>\n",
       "    </tr>\n",
       "    <tr>\n",
       "      <th>78</th>\n",
       "      <td>brambles</td>\n",
       "      <td>Spatial Location of Bramble Canes</td>\n",
       "    </tr>\n",
       "    <tr>\n",
       "      <th>79</th>\n",
       "      <td>breslow</td>\n",
       "      <td>Smoking Deaths Among Doctors</td>\n",
       "    </tr>\n",
       "    <tr>\n",
       "      <th>80</th>\n",
       "      <td>calcium</td>\n",
       "      <td>Calcium Uptake Data</td>\n",
       "    </tr>\n",
       "    <tr>\n",
       "      <th>81</th>\n",
       "      <td>cane</td>\n",
       "      <td>Sugar-cane Disease Data</td>\n",
       "    </tr>\n",
       "    <tr>\n",
       "      <th>82</th>\n",
       "      <td>capability</td>\n",
       "      <td>Simulated Manufacturing Process Data</td>\n",
       "    </tr>\n",
       "    <tr>\n",
       "      <th>83</th>\n",
       "      <td>catsM</td>\n",
       "      <td>Weight Data for Domestic Cats</td>\n",
       "    </tr>\n",
       "    <tr>\n",
       "      <th>84</th>\n",
       "      <td>cav</td>\n",
       "      <td>Position of Muscle Caveolae</td>\n",
       "    </tr>\n",
       "    <tr>\n",
       "      <th>...</th>\n",
       "      <td>...</td>\n",
       "      <td>...</td>\n",
       "    </tr>\n",
       "    <tr>\n",
       "      <th>672</th>\n",
       "      <td>students</td>\n",
       "      <td>Student Risk Taking</td>\n",
       "    </tr>\n",
       "    <tr>\n",
       "      <th>673</th>\n",
       "      <td>suicides</td>\n",
       "      <td>Crowd Baiting Behaviour and Suicides</td>\n",
       "    </tr>\n",
       "    <tr>\n",
       "      <th>674</th>\n",
       "      <td>toothpaste</td>\n",
       "      <td>Toothpaste Data</td>\n",
       "    </tr>\n",
       "    <tr>\n",
       "      <th>675</th>\n",
       "      <td>voting</td>\n",
       "      <td>House of Representatives Voting Data</td>\n",
       "    </tr>\n",
       "    <tr>\n",
       "      <th>676</th>\n",
       "      <td>water</td>\n",
       "      <td>Mortality and Water Hardness</td>\n",
       "    </tr>\n",
       "    <tr>\n",
       "      <th>677</th>\n",
       "      <td>watervoles</td>\n",
       "      <td>Water Voles Data</td>\n",
       "    </tr>\n",
       "    <tr>\n",
       "      <th>678</th>\n",
       "      <td>waves</td>\n",
       "      <td>Electricity from Wave Power at Sea</td>\n",
       "    </tr>\n",
       "    <tr>\n",
       "      <th>679</th>\n",
       "      <td>weightgain</td>\n",
       "      <td>Gain in Weight of Rats</td>\n",
       "    </tr>\n",
       "    <tr>\n",
       "      <th>680</th>\n",
       "      <td>womensrole</td>\n",
       "      <td>Womens Role in Society</td>\n",
       "    </tr>\n",
       "    <tr>\n",
       "      <th>681</th>\n",
       "      <td>Bechtoldt</td>\n",
       "      <td>Seven data sets showing a bifactor solution.</td>\n",
       "    </tr>\n",
       "    <tr>\n",
       "      <th>682</th>\n",
       "      <td>Bechtoldt.1</td>\n",
       "      <td>Seven data sets showing a bifactor solution.</td>\n",
       "    </tr>\n",
       "    <tr>\n",
       "      <th>683</th>\n",
       "      <td>Bechtoldt.2</td>\n",
       "      <td>Seven data sets showing a bifactor solution.</td>\n",
       "    </tr>\n",
       "    <tr>\n",
       "      <th>684</th>\n",
       "      <td>Dwyer</td>\n",
       "      <td>8 cognitive variables used by Dwyer for an example.</td>\n",
       "    </tr>\n",
       "    <tr>\n",
       "      <th>685</th>\n",
       "      <td>Gleser</td>\n",
       "      <td>Example data from Gleser, Cronbach and Rajaratnam (1965) to show basic principles of g...</td>\n",
       "    </tr>\n",
       "    <tr>\n",
       "      <th>686</th>\n",
       "      <td>Gorsuch</td>\n",
       "      <td>Example data set from Gorsuch (1997) for an example factor extension.</td>\n",
       "    </tr>\n",
       "    <tr>\n",
       "      <th>687</th>\n",
       "      <td>Harman.5</td>\n",
       "      <td>5 socio-economic variables from Harman (1967)</td>\n",
       "    </tr>\n",
       "    <tr>\n",
       "      <th>688</th>\n",
       "      <td>Harman.8</td>\n",
       "      <td>Correlations of eight physical variables (from Harman, 1966)</td>\n",
       "    </tr>\n",
       "    <tr>\n",
       "      <th>689</th>\n",
       "      <td>Harman.political</td>\n",
       "      <td>Eight political variables used by Harman (1967) as example 8.17</td>\n",
       "    </tr>\n",
       "    <tr>\n",
       "      <th>690</th>\n",
       "      <td>Holzinger</td>\n",
       "      <td>Seven data sets showing a bifactor solution.</td>\n",
       "    </tr>\n",
       "    <tr>\n",
       "      <th>691</th>\n",
       "      <td>Holzinger.9</td>\n",
       "      <td>Seven data sets showing a bifactor solution.</td>\n",
       "    </tr>\n",
       "    <tr>\n",
       "      <th>692</th>\n",
       "      <td>Reise</td>\n",
       "      <td>Seven data sets showing a bifactor solution.</td>\n",
       "    </tr>\n",
       "    <tr>\n",
       "      <th>693</th>\n",
       "      <td>Schmid</td>\n",
       "      <td>12 variables created by Schmid and Leiman to show the Schmid-Leiman Transformation</td>\n",
       "    </tr>\n",
       "    <tr>\n",
       "      <th>694</th>\n",
       "      <td>Thurstone</td>\n",
       "      <td>Seven data sets showing a bifactor solution.</td>\n",
       "    </tr>\n",
       "    <tr>\n",
       "      <th>695</th>\n",
       "      <td>Thurstone.33</td>\n",
       "      <td>Seven data sets showing a bifactor solution.</td>\n",
       "    </tr>\n",
       "    <tr>\n",
       "      <th>696</th>\n",
       "      <td>Tucker</td>\n",
       "      <td>9 Cognitive variables discussed by Tucker and Lewis (1973)</td>\n",
       "    </tr>\n",
       "    <tr>\n",
       "      <th>697</th>\n",
       "      <td>ability</td>\n",
       "      <td>16 ability items scored as correct or incorrect.</td>\n",
       "    </tr>\n",
       "    <tr>\n",
       "      <th>698</th>\n",
       "      <td>affect</td>\n",
       "      <td>Two data sets of affect and arousal scores as a function of personality and movie cond...</td>\n",
       "    </tr>\n",
       "    <tr>\n",
       "      <th>699</th>\n",
       "      <td>bfi</td>\n",
       "      <td>25 Personality items representing 5 factors</td>\n",
       "    </tr>\n",
       "    <tr>\n",
       "      <th>700</th>\n",
       "      <td>bfi.dictionary</td>\n",
       "      <td>25 Personality items representing 5 factors</td>\n",
       "    </tr>\n",
       "    <tr>\n",
       "      <th>701</th>\n",
       "      <td>blot</td>\n",
       "      <td>Bond's Logical Operations Test - BLOT</td>\n",
       "    </tr>\n",
       "    <tr>\n",
       "      <th>702</th>\n",
       "      <td>burt</td>\n",
       "      <td>11 emotional variables from Burt (1915)</td>\n",
       "    </tr>\n",
       "    <tr>\n",
       "      <th>703</th>\n",
       "      <td>cities</td>\n",
       "      <td>Distances between 11 US cities</td>\n",
       "    </tr>\n",
       "    <tr>\n",
       "      <th>704</th>\n",
       "      <td>cubits</td>\n",
       "      <td>Galton's example of the relationship between height and 'cubit' or forearm length</td>\n",
       "    </tr>\n",
       "    <tr>\n",
       "      <th>705</th>\n",
       "      <td>cushny</td>\n",
       "      <td>A data set from Cushny and Peebles (1905) on the effect of three drugs on hours of sle...</td>\n",
       "    </tr>\n",
       "    <tr>\n",
       "      <th>706</th>\n",
       "      <td>epi</td>\n",
       "      <td>Eysenck Personality Inventory (EPI) data for 3570 participants</td>\n",
       "    </tr>\n",
       "    <tr>\n",
       "      <th>707</th>\n",
       "      <td>epi.bfi</td>\n",
       "      <td>13 personality scales from the Eysenck Personality Inventory and Big 5 inventory</td>\n",
       "    </tr>\n",
       "    <tr>\n",
       "      <th>708</th>\n",
       "      <td>epi.dictionary</td>\n",
       "      <td>Eysenck Personality Inventory (EPI) data for 3570 participants</td>\n",
       "    </tr>\n",
       "    <tr>\n",
       "      <th>709</th>\n",
       "      <td>galton</td>\n",
       "      <td>Galton's Mid parent child height data</td>\n",
       "    </tr>\n",
       "    <tr>\n",
       "      <th>710</th>\n",
       "      <td>heights</td>\n",
       "      <td>A data.frame of the Galton (1888) height and cubit data set.</td>\n",
       "    </tr>\n",
       "    <tr>\n",
       "      <th>711</th>\n",
       "      <td>income</td>\n",
       "      <td>US family income from US census 2008</td>\n",
       "    </tr>\n",
       "    <tr>\n",
       "      <th>712</th>\n",
       "      <td>iqitems</td>\n",
       "      <td>16 multiple choice IQ items</td>\n",
       "    </tr>\n",
       "    <tr>\n",
       "      <th>713</th>\n",
       "      <td>msq</td>\n",
       "      <td>75 mood items from the Motivational State Questionnaire for 3896 participants</td>\n",
       "    </tr>\n",
       "    <tr>\n",
       "      <th>714</th>\n",
       "      <td>neo</td>\n",
       "      <td>NEO correlation matrix from the NEO_PI_R manual</td>\n",
       "    </tr>\n",
       "    <tr>\n",
       "      <th>715</th>\n",
       "      <td>peas</td>\n",
       "      <td>Galton's Peas</td>\n",
       "    </tr>\n",
       "    <tr>\n",
       "      <th>716</th>\n",
       "      <td>sat.act</td>\n",
       "      <td>3 Measures of ability: SATV, SATQ, ACT</td>\n",
       "    </tr>\n",
       "    <tr>\n",
       "      <th>717</th>\n",
       "      <td>withinBetween</td>\n",
       "      <td>An example of the distinction between within group and between group correlations</td>\n",
       "    </tr>\n",
       "    <tr>\n",
       "      <th>718</th>\n",
       "      <td>Bosco</td>\n",
       "      <td>Boscovich Data</td>\n",
       "    </tr>\n",
       "    <tr>\n",
       "      <th>719</th>\n",
       "      <td>CobarOre</td>\n",
       "      <td>Cobar Ore data</td>\n",
       "    </tr>\n",
       "    <tr>\n",
       "      <th>720</th>\n",
       "      <td>Mammals</td>\n",
       "      <td>Garland(1983) Data on Running Speed of Mammals</td>\n",
       "    </tr>\n",
       "    <tr>\n",
       "      <th>721</th>\n",
       "      <td>barro</td>\n",
       "      <td>Barro Data</td>\n",
       "    </tr>\n",
       "    <tr>\n",
       "      <th>722</th>\n",
       "      <td>engel</td>\n",
       "      <td>Engel Data</td>\n",
       "    </tr>\n",
       "    <tr>\n",
       "      <th>723</th>\n",
       "      <td>uis</td>\n",
       "      <td>UIS Drug Treatment study data</td>\n",
       "    </tr>\n",
       "    <tr>\n",
       "      <th>724</th>\n",
       "      <td>dietox</td>\n",
       "      <td>Growth curves of pigs in a 3x3 factorial experiment</td>\n",
       "    </tr>\n",
       "    <tr>\n",
       "      <th>725</th>\n",
       "      <td>koch</td>\n",
       "      <td>Ordinal Data from Koch</td>\n",
       "    </tr>\n",
       "    <tr>\n",
       "      <th>726</th>\n",
       "      <td>ohio</td>\n",
       "      <td>Ohio Children Wheeze Status</td>\n",
       "    </tr>\n",
       "    <tr>\n",
       "      <th>727</th>\n",
       "      <td>respdis</td>\n",
       "      <td>Clustered Ordinal Respiratory Disorder</td>\n",
       "    </tr>\n",
       "    <tr>\n",
       "      <th>728</th>\n",
       "      <td>respiratory</td>\n",
       "      <td>Data from a clinical trial comparing two treatments for a respiratory illness</td>\n",
       "    </tr>\n",
       "    <tr>\n",
       "      <th>729</th>\n",
       "      <td>seizure</td>\n",
       "      <td>Epiliptic Seizures</td>\n",
       "    </tr>\n",
       "    <tr>\n",
       "      <th>730</th>\n",
       "      <td>sitka89</td>\n",
       "      <td>Growth of Sitka Spruce Trees</td>\n",
       "    </tr>\n",
       "    <tr>\n",
       "      <th>731</th>\n",
       "      <td>spruce</td>\n",
       "      <td>Log-size of 79 Sitka spruce trees</td>\n",
       "    </tr>\n",
       "    <tr>\n",
       "      <th>732</th>\n",
       "      <td>liver</td>\n",
       "      <td>Liver related laboratory data</td>\n",
       "    </tr>\n",
       "    <tr>\n",
       "      <th>733</th>\n",
       "      <td>portpirie</td>\n",
       "      <td>Rain, wavesurge and portpirie datasets.</td>\n",
       "    </tr>\n",
       "    <tr>\n",
       "      <th>734</th>\n",
       "      <td>rain</td>\n",
       "      <td>Rain, wavesurge and portpirie datasets.</td>\n",
       "    </tr>\n",
       "    <tr>\n",
       "      <th>735</th>\n",
       "      <td>summer</td>\n",
       "      <td>Air pollution data, separately for summer and winter months</td>\n",
       "    </tr>\n",
       "    <tr>\n",
       "      <th>736</th>\n",
       "      <td>wavesurge</td>\n",
       "      <td>Rain, wavesurge and portpirie datasets.</td>\n",
       "    </tr>\n",
       "    <tr>\n",
       "      <th>737</th>\n",
       "      <td>winter</td>\n",
       "      <td>Air pollution data, separately for summer and winter months</td>\n",
       "    </tr>\n",
       "    <tr>\n",
       "      <th>738</th>\n",
       "      <td>arthritis</td>\n",
       "      <td>Rheumatoid Arthritis Clinical Trial</td>\n",
       "    </tr>\n",
       "    <tr>\n",
       "      <th>739</th>\n",
       "      <td>housing</td>\n",
       "      <td>Homeless Data</td>\n",
       "    </tr>\n",
       "    <tr>\n",
       "      <th>740</th>\n",
       "      <td>bmw</td>\n",
       "      <td>Daily Log Returns on BMW Share Price</td>\n",
       "    </tr>\n",
       "    <tr>\n",
       "      <th>741</th>\n",
       "      <td>danish</td>\n",
       "      <td>Danish Fire Insurance Claims</td>\n",
       "    </tr>\n",
       "    <tr>\n",
       "      <th>742</th>\n",
       "      <td>nidd.annual</td>\n",
       "      <td>The River Nidd Data</td>\n",
       "    </tr>\n",
       "    <tr>\n",
       "      <th>743</th>\n",
       "      <td>nidd.thresh</td>\n",
       "      <td>The River Nidd Data</td>\n",
       "    </tr>\n",
       "    <tr>\n",
       "      <th>744</th>\n",
       "      <td>siemens</td>\n",
       "      <td>Daily Log Returns on Siemens Share Price</td>\n",
       "    </tr>\n",
       "    <tr>\n",
       "      <th>745</th>\n",
       "      <td>sp.raw</td>\n",
       "      <td>SP Data to June 1993</td>\n",
       "    </tr>\n",
       "    <tr>\n",
       "      <th>746</th>\n",
       "      <td>spto87</td>\n",
       "      <td>SP Return Data to October 1987</td>\n",
       "    </tr>\n",
       "    <tr>\n",
       "      <th>747</th>\n",
       "      <td>Dyestuff</td>\n",
       "      <td>Yield of dyestuff by batch</td>\n",
       "    </tr>\n",
       "    <tr>\n",
       "      <th>748</th>\n",
       "      <td>Dyestuff2</td>\n",
       "      <td>Yield of dyestuff by batch</td>\n",
       "    </tr>\n",
       "    <tr>\n",
       "      <th>749</th>\n",
       "      <td>InstEval</td>\n",
       "      <td>University Lecture/Instructor Evaluations by Students at ETH</td>\n",
       "    </tr>\n",
       "    <tr>\n",
       "      <th>750</th>\n",
       "      <td>Pastes</td>\n",
       "      <td>Paste strength by batch and cask</td>\n",
       "    </tr>\n",
       "    <tr>\n",
       "      <th>751</th>\n",
       "      <td>Penicillin</td>\n",
       "      <td>Variation in penicillin testing</td>\n",
       "    </tr>\n",
       "    <tr>\n",
       "      <th>752</th>\n",
       "      <td>VerbAgg</td>\n",
       "      <td>Verbal Aggression item responses</td>\n",
       "    </tr>\n",
       "    <tr>\n",
       "      <th>753</th>\n",
       "      <td>cake</td>\n",
       "      <td>Breakage Angle of Chocolate Cakes</td>\n",
       "    </tr>\n",
       "    <tr>\n",
       "      <th>754</th>\n",
       "      <td>cbpp</td>\n",
       "      <td>Contagious bovine pleuropneumonia</td>\n",
       "    </tr>\n",
       "    <tr>\n",
       "      <th>755</th>\n",
       "      <td>grouseticks</td>\n",
       "      <td>Data on red grouse ticks from Elston et al. 2001</td>\n",
       "    </tr>\n",
       "    <tr>\n",
       "      <th>756</th>\n",
       "      <td>sleepstudy</td>\n",
       "      <td>Reaction times in a sleep deprivation study</td>\n",
       "    </tr>\n",
       "  </tbody>\n",
       "</table>\n",
       "<p>757 rows × 2 columns</p>\n",
       "</div>"
      ],
      "text/plain": [
       "                dataset_id  \\\n",
       "0            AirPassengers   \n",
       "1                  BJsales   \n",
       "2                      BOD   \n",
       "3             Formaldehyde   \n",
       "4             HairEyeColor   \n",
       "5             InsectSprays   \n",
       "6           JohnsonJohnson   \n",
       "7                LakeHuron   \n",
       "8         LifeCycleSavings   \n",
       "9                     Nile   \n",
       "10           OrchardSprays   \n",
       "11             PlantGrowth   \n",
       "12               Puromycin   \n",
       "13                 Titanic   \n",
       "14             ToothGrowth   \n",
       "15           UCBAdmissions   \n",
       "16          UKDriverDeaths   \n",
       "17                   UKgas   \n",
       "18             USAccDeaths   \n",
       "19               USArrests   \n",
       "20          USJudgeRatings   \n",
       "21   USPersonalExpenditure   \n",
       "22                VADeaths   \n",
       "23                WWWusage   \n",
       "24             WorldPhones   \n",
       "25                airmiles   \n",
       "26              airquality   \n",
       "27                anscombe   \n",
       "28                  attenu   \n",
       "29                attitude   \n",
       "30                 austres   \n",
       "31                    cars   \n",
       "32                chickwts   \n",
       "33                     co2   \n",
       "34                 crimtab   \n",
       "35             discoveries   \n",
       "36                   esoph   \n",
       "37                    euro   \n",
       "38                faithful   \n",
       "39                  freeny   \n",
       "40                  infert   \n",
       "41                    iris   \n",
       "42                 islands   \n",
       "43                      lh   \n",
       "44                 longley   \n",
       "45                    lynx   \n",
       "46                  morley   \n",
       "47                  mtcars   \n",
       "48                  nhtemp   \n",
       "49                  nottem   \n",
       "50                     npk   \n",
       "51      occupationalStatus   \n",
       "52                  precip   \n",
       "53              presidents   \n",
       "54                pressure   \n",
       "55                  quakes   \n",
       "56                   randu   \n",
       "57                  rivers   \n",
       "58                    rock   \n",
       "59                   sleep   \n",
       "60               stackloss   \n",
       "61           sunspot.month   \n",
       "62            sunspot.year   \n",
       "63                sunspots   \n",
       "64                   swiss   \n",
       "65                treering   \n",
       "66                   trees   \n",
       "67                   uspop   \n",
       "68                 volcano   \n",
       "69              warpbreaks   \n",
       "70                   women   \n",
       "71                    acme   \n",
       "72                    aids   \n",
       "73               aircondit   \n",
       "74              aircondit7   \n",
       "75                    amis   \n",
       "76                     aml   \n",
       "77                 bigcity   \n",
       "78                brambles   \n",
       "79                 breslow   \n",
       "80                 calcium   \n",
       "81                    cane   \n",
       "82              capability   \n",
       "83                   catsM   \n",
       "84                     cav   \n",
       "..                     ...   \n",
       "672               students   \n",
       "673               suicides   \n",
       "674             toothpaste   \n",
       "675                 voting   \n",
       "676                  water   \n",
       "677             watervoles   \n",
       "678                  waves   \n",
       "679             weightgain   \n",
       "680             womensrole   \n",
       "681              Bechtoldt   \n",
       "682            Bechtoldt.1   \n",
       "683            Bechtoldt.2   \n",
       "684                  Dwyer   \n",
       "685                 Gleser   \n",
       "686                Gorsuch   \n",
       "687               Harman.5   \n",
       "688               Harman.8   \n",
       "689       Harman.political   \n",
       "690              Holzinger   \n",
       "691            Holzinger.9   \n",
       "692                  Reise   \n",
       "693                 Schmid   \n",
       "694              Thurstone   \n",
       "695           Thurstone.33   \n",
       "696                 Tucker   \n",
       "697                ability   \n",
       "698                 affect   \n",
       "699                    bfi   \n",
       "700         bfi.dictionary   \n",
       "701                   blot   \n",
       "702                   burt   \n",
       "703                 cities   \n",
       "704                 cubits   \n",
       "705                 cushny   \n",
       "706                    epi   \n",
       "707                epi.bfi   \n",
       "708         epi.dictionary   \n",
       "709                 galton   \n",
       "710                heights   \n",
       "711                 income   \n",
       "712                iqitems   \n",
       "713                    msq   \n",
       "714                    neo   \n",
       "715                   peas   \n",
       "716                sat.act   \n",
       "717          withinBetween   \n",
       "718                  Bosco   \n",
       "719               CobarOre   \n",
       "720                Mammals   \n",
       "721                  barro   \n",
       "722                  engel   \n",
       "723                    uis   \n",
       "724                 dietox   \n",
       "725                   koch   \n",
       "726                   ohio   \n",
       "727                respdis   \n",
       "728            respiratory   \n",
       "729                seizure   \n",
       "730                sitka89   \n",
       "731                 spruce   \n",
       "732                  liver   \n",
       "733              portpirie   \n",
       "734                   rain   \n",
       "735                 summer   \n",
       "736              wavesurge   \n",
       "737                 winter   \n",
       "738              arthritis   \n",
       "739                housing   \n",
       "740                    bmw   \n",
       "741                 danish   \n",
       "742            nidd.annual   \n",
       "743            nidd.thresh   \n",
       "744                siemens   \n",
       "745                 sp.raw   \n",
       "746                 spto87   \n",
       "747               Dyestuff   \n",
       "748              Dyestuff2   \n",
       "749               InstEval   \n",
       "750                 Pastes   \n",
       "751             Penicillin   \n",
       "752                VerbAgg   \n",
       "753                   cake   \n",
       "754                   cbpp   \n",
       "755            grouseticks   \n",
       "756             sleepstudy   \n",
       "\n",
       "                                                                                         title  \n",
       "0                                                  Monthly Airline Passenger Numbers 1949-1960  \n",
       "1                                                            Sales Data with Leading Indicator  \n",
       "2                                                                    Biochemical Oxygen Demand  \n",
       "3                                                                Determination of Formaldehyde  \n",
       "4                                                    Hair and Eye Color of Statistics Students  \n",
       "5                                                               Effectiveness of Insect Sprays  \n",
       "6                                               Quarterly Earnings per Johnson & Johnson Share  \n",
       "7                                                                Level of Lake Huron 1875-1972  \n",
       "8                                                         Intercountry Life-Cycle Savings Data  \n",
       "9                                                                       Flow of the River Nile  \n",
       "10                                                                   Potency of Orchard Sprays  \n",
       "11                                                  Results from an Experiment on Plant Growth  \n",
       "12                                                  Reaction Velocity of an Enzymatic Reaction  \n",
       "13                                                       Survival of passengers on the Titanic  \n",
       "14                                      The Effect of Vitamin C on Tooth Growth in Guinea Pigs  \n",
       "15                                                           Student Admissions at UC Berkeley  \n",
       "16                                                    Road Casualties in Great Britain 1969-84  \n",
       "17                                                                UK Quarterly Gas Consumption  \n",
       "18                                                       Accidental Deaths in the US 1973-1978  \n",
       "19                                                             Violent Crime Rates by US State  \n",
       "20                                   Lawyers' Ratings of State Judges in the US Superior Court  \n",
       "21                                                                   Personal Expenditure Data  \n",
       "22                                                              Death Rates in Virginia (1940)  \n",
       "23                                                                   Internet Usage per Minute  \n",
       "24                                                                      The World's Telephones  \n",
       "25                                        Passenger Miles on Commercial US Airlines, 1937-1960  \n",
       "26                                                           New York Air Quality Measurements  \n",
       "27                                 Anscombe's Quartet of 'Identical' Simple Linear Regressions  \n",
       "28                                                           The Joyner-Boore Attenuation Data  \n",
       "29                                                          The Chatterjee-Price Attitude Data  \n",
       "30                                 Quarterly Time Series of the Number of Australian Residents  \n",
       "31                                                        Speed and Stopping Distances of Cars  \n",
       "32                                                                Chicken Weights by Feed Type  \n",
       "33                                                     Mauna Loa Atmospheric CO2 Concentration  \n",
       "34                                                               Student's 3000 Criminals Data  \n",
       "35                                                     Yearly Numbers of Important Discoveries  \n",
       "36                                                   Smoking, Alcohol and (O)esophageal Cancer  \n",
       "37                                                         Conversion Rates of Euro Currencies  \n",
       "38                                                                    Old Faithful Geyser Data  \n",
       "39                                                                       Freeny's Revenue Data  \n",
       "40                                          Infertility after Spontaneous and Induced Abortion  \n",
       "41                                                                  Edgar Anderson's Iris Data  \n",
       "42                                                       Areas of the World's Major Landmasses  \n",
       "43                                                        Luteinizing Hormone in Blood Samples  \n",
       "44                                                          Longley's Economic Regression Data  \n",
       "45                                                    Annual Canadian Lynx trappings 1821-1934  \n",
       "46                                                               Michelson Speed of Light Data  \n",
       "47                                                                  Motor Trend Car Road Tests  \n",
       "48                                                    Average Yearly Temperatures in New Haven  \n",
       "49                                       Average Monthly Temperatures at Nottingham, 1920-1939  \n",
       "50                                                      Classical N, P, K Factorial Experiment  \n",
       "51                                               Occupational Status of Fathers and their Sons  \n",
       "52                                                           Annual Precipitation in US Cities  \n",
       "53                                                 Quarterly Approval Ratings of US Presidents  \n",
       "54                                      Vapor Pressure of Mercury as a Function of Temperature  \n",
       "55                                                           Locations of Earthquakes off Fiji  \n",
       "56                                            Random Numbers from Congruential Generator RANDU  \n",
       "57                                                      Lengths of Major North American Rivers  \n",
       "58                                                      Measurements on Petroleum Rock Samples  \n",
       "59                                                                        Student's Sleep Data  \n",
       "60                                                            Brownlee's Stack Loss Plant Data  \n",
       "61                                                Monthly Sunspot Data, from 1749 to \"Present\"  \n",
       "62                                                              Yearly Sunspot Data, 1700-1988  \n",
       "63                                                          Monthly Sunspot Numbers, 1749-1983  \n",
       "64                                    Swiss Fertility and Socioeconomic Indicators (1888) Data  \n",
       "65                                                            Yearly Treering Data, -6000-1979  \n",
       "66                                             Girth, Height and Volume for Black Cherry Trees  \n",
       "67                                                       Populations Recorded by the US Census  \n",
       "68                                   Topographic Information on Auckland's Maunga Whau Volcano  \n",
       "69                                                 The Number of Breaks in Yarn during Weaving  \n",
       "70                                              Average Heights and Weights for American Women  \n",
       "71                                                                      Monthly Excess Returns  \n",
       "72                                                Delay in AIDS Reporting in England and Wales  \n",
       "73                                                      Failures of Air-conditioning Equipment  \n",
       "74                                                      Failures of Air-conditioning Equipment  \n",
       "75                                                              Car Speeding and Warning Signs  \n",
       "76                                             Remission Times for Acute Myelogenous Leukaemia  \n",
       "77                                                                   Population of U.S. Cities  \n",
       "78                                                           Spatial Location of Bramble Canes  \n",
       "79                                                                Smoking Deaths Among Doctors  \n",
       "80                                                                         Calcium Uptake Data  \n",
       "81                                                                     Sugar-cane Disease Data  \n",
       "82                                                        Simulated Manufacturing Process Data  \n",
       "83                                                               Weight Data for Domestic Cats  \n",
       "84                                                                 Position of Muscle Caveolae  \n",
       "..                                                                                         ...  \n",
       "672                                                                        Student Risk Taking  \n",
       "673                                                       Crowd Baiting Behaviour and Suicides  \n",
       "674                                                                            Toothpaste Data  \n",
       "675                                                       House of Representatives Voting Data  \n",
       "676                                                               Mortality and Water Hardness  \n",
       "677                                                                           Water Voles Data  \n",
       "678                                                         Electricity from Wave Power at Sea  \n",
       "679                                                                     Gain in Weight of Rats  \n",
       "680                                                                     Womens Role in Society  \n",
       "681                                               Seven data sets showing a bifactor solution.  \n",
       "682                                               Seven data sets showing a bifactor solution.  \n",
       "683                                               Seven data sets showing a bifactor solution.  \n",
       "684                                        8 cognitive variables used by Dwyer for an example.  \n",
       "685  Example data from Gleser, Cronbach and Rajaratnam (1965) to show basic principles of g...  \n",
       "686                      Example data set from Gorsuch (1997) for an example factor extension.  \n",
       "687                                              5 socio-economic variables from Harman (1967)  \n",
       "688                               Correlations of eight physical variables (from Harman, 1966)  \n",
       "689                            Eight political variables used by Harman (1967) as example 8.17  \n",
       "690                                               Seven data sets showing a bifactor solution.  \n",
       "691                                               Seven data sets showing a bifactor solution.  \n",
       "692                                               Seven data sets showing a bifactor solution.  \n",
       "693         12 variables created by Schmid and Leiman to show the Schmid-Leiman Transformation  \n",
       "694                                               Seven data sets showing a bifactor solution.  \n",
       "695                                               Seven data sets showing a bifactor solution.  \n",
       "696                                 9 Cognitive variables discussed by Tucker and Lewis (1973)  \n",
       "697                                           16 ability items scored as correct or incorrect.  \n",
       "698  Two data sets of affect and arousal scores as a function of personality and movie cond...  \n",
       "699                                                25 Personality items representing 5 factors  \n",
       "700                                                25 Personality items representing 5 factors  \n",
       "701                                                      Bond's Logical Operations Test - BLOT  \n",
       "702                                                    11 emotional variables from Burt (1915)  \n",
       "703                                                             Distances between 11 US cities  \n",
       "704          Galton's example of the relationship between height and 'cubit' or forearm length  \n",
       "705  A data set from Cushny and Peebles (1905) on the effect of three drugs on hours of sle...  \n",
       "706                             Eysenck Personality Inventory (EPI) data for 3570 participants  \n",
       "707           13 personality scales from the Eysenck Personality Inventory and Big 5 inventory  \n",
       "708                             Eysenck Personality Inventory (EPI) data for 3570 participants  \n",
       "709                                                      Galton's Mid parent child height data  \n",
       "710                               A data.frame of the Galton (1888) height and cubit data set.  \n",
       "711                                                       US family income from US census 2008  \n",
       "712                                                                16 multiple choice IQ items  \n",
       "713              75 mood items from the Motivational State Questionnaire for 3896 participants  \n",
       "714                                            NEO correlation matrix from the NEO_PI_R manual  \n",
       "715                                                                              Galton's Peas  \n",
       "716                                                     3 Measures of ability: SATV, SATQ, ACT  \n",
       "717          An example of the distinction between within group and between group correlations  \n",
       "718                                                                             Boscovich Data  \n",
       "719                                                                             Cobar Ore data  \n",
       "720                                             Garland(1983) Data on Running Speed of Mammals  \n",
       "721                                                                                 Barro Data  \n",
       "722                                                                                 Engel Data  \n",
       "723                                                              UIS Drug Treatment study data  \n",
       "724                                        Growth curves of pigs in a 3x3 factorial experiment  \n",
       "725                                                                     Ordinal Data from Koch  \n",
       "726                                                                Ohio Children Wheeze Status  \n",
       "727                                                     Clustered Ordinal Respiratory Disorder  \n",
       "728              Data from a clinical trial comparing two treatments for a respiratory illness  \n",
       "729                                                                         Epiliptic Seizures  \n",
       "730                                                               Growth of Sitka Spruce Trees  \n",
       "731                                                          Log-size of 79 Sitka spruce trees  \n",
       "732                                                              Liver related laboratory data  \n",
       "733                                                    Rain, wavesurge and portpirie datasets.  \n",
       "734                                                    Rain, wavesurge and portpirie datasets.  \n",
       "735                                Air pollution data, separately for summer and winter months  \n",
       "736                                                    Rain, wavesurge and portpirie datasets.  \n",
       "737                                Air pollution data, separately for summer and winter months  \n",
       "738                                                        Rheumatoid Arthritis Clinical Trial  \n",
       "739                                                                              Homeless Data  \n",
       "740                                                       Daily Log Returns on BMW Share Price  \n",
       "741                                                               Danish Fire Insurance Claims  \n",
       "742                                                                        The River Nidd Data  \n",
       "743                                                                        The River Nidd Data  \n",
       "744                                                   Daily Log Returns on Siemens Share Price  \n",
       "745                                                                       SP Data to June 1993  \n",
       "746                                                             SP Return Data to October 1987  \n",
       "747                                                                 Yield of dyestuff by batch  \n",
       "748                                                                 Yield of dyestuff by batch  \n",
       "749                               University Lecture/Instructor Evaluations by Students at ETH  \n",
       "750                                                           Paste strength by batch and cask  \n",
       "751                                                            Variation in penicillin testing  \n",
       "752                                                           Verbal Aggression item responses  \n",
       "753                                                          Breakage Angle of Chocolate Cakes  \n",
       "754                                                          Contagious bovine pleuropneumonia  \n",
       "755                                           Data on red grouse ticks from Elston et al. 2001  \n",
       "756                                                Reaction times in a sleep deprivation study  \n",
       "\n",
       "[757 rows x 2 columns]"
      ]
     },
     "execution_count": 21,
     "metadata": {},
     "output_type": "execute_result"
    }
   ],
   "source": [
    "data()"
   ]
  },
  {
   "cell_type": "code",
   "execution_count": 20,
   "metadata": {},
   "outputs": [],
   "source": [
    "d=data('chickwts')"
   ]
  },
  {
   "cell_type": "code",
   "execution_count": 21,
   "metadata": {},
   "outputs": [
    {
     "data": {
      "text/plain": [
       "((71, 2), 2)"
      ]
     },
     "execution_count": 21,
     "metadata": {},
     "output_type": "execute_result"
    }
   ],
   "source": [
    "d.shape,d.ndim"
   ]
  },
  {
   "cell_type": "code",
   "execution_count": 22,
   "metadata": {},
   "outputs": [
    {
     "data": {
      "text/html": [
       "<div>\n",
       "<style scoped>\n",
       "    .dataframe tbody tr th:only-of-type {\n",
       "        vertical-align: middle;\n",
       "    }\n",
       "\n",
       "    .dataframe tbody tr th {\n",
       "        vertical-align: top;\n",
       "    }\n",
       "\n",
       "    .dataframe thead th {\n",
       "        text-align: right;\n",
       "    }\n",
       "</style>\n",
       "<table border=\"1\" class=\"dataframe\">\n",
       "  <thead>\n",
       "    <tr style=\"text-align: right;\">\n",
       "      <th></th>\n",
       "      <th>weight</th>\n",
       "      <th>feed</th>\n",
       "    </tr>\n",
       "  </thead>\n",
       "  <tbody>\n",
       "    <tr>\n",
       "      <th>1</th>\n",
       "      <td>179</td>\n",
       "      <td>horsebean</td>\n",
       "    </tr>\n",
       "    <tr>\n",
       "      <th>2</th>\n",
       "      <td>160</td>\n",
       "      <td>horsebean</td>\n",
       "    </tr>\n",
       "    <tr>\n",
       "      <th>3</th>\n",
       "      <td>136</td>\n",
       "      <td>horsebean</td>\n",
       "    </tr>\n",
       "    <tr>\n",
       "      <th>4</th>\n",
       "      <td>227</td>\n",
       "      <td>horsebean</td>\n",
       "    </tr>\n",
       "    <tr>\n",
       "      <th>5</th>\n",
       "      <td>217</td>\n",
       "      <td>horsebean</td>\n",
       "    </tr>\n",
       "  </tbody>\n",
       "</table>\n",
       "</div>"
      ],
      "text/plain": [
       "   weight       feed\n",
       "1     179  horsebean\n",
       "2     160  horsebean\n",
       "3     136  horsebean\n",
       "4     227  horsebean\n",
       "5     217  horsebean"
      ]
     },
     "execution_count": 22,
     "metadata": {},
     "output_type": "execute_result"
    }
   ],
   "source": [
    "d.head()"
   ]
  },
  {
   "cell_type": "code",
   "execution_count": 31,
   "metadata": {},
   "outputs": [
    {
     "data": {
      "text/plain": [
       "weight    66\n",
       "feed       6\n",
       "dtype: int64"
      ]
     },
     "execution_count": 31,
     "metadata": {},
     "output_type": "execute_result"
    }
   ],
   "source": [
    "d.nunique()"
   ]
  },
  {
   "cell_type": "code",
   "execution_count": 32,
   "metadata": {},
   "outputs": [
    {
     "data": {
      "text/plain": [
       "soybean      14\n",
       "linseed      12\n",
       "sunflower    12\n",
       "casein       12\n",
       "meatmeal     11\n",
       "horsebean    10\n",
       "Name: feed, dtype: int64"
      ]
     },
     "execution_count": 32,
     "metadata": {},
     "output_type": "execute_result"
    }
   ],
   "source": [
    "d.feed.value_counts()"
   ]
  },
  {
   "cell_type": "code",
   "execution_count": 33,
   "metadata": {},
   "outputs": [
    {
     "data": {
      "text/html": [
       "<div>\n",
       "<style scoped>\n",
       "    .dataframe tbody tr th:only-of-type {\n",
       "        vertical-align: middle;\n",
       "    }\n",
       "\n",
       "    .dataframe tbody tr th {\n",
       "        vertical-align: top;\n",
       "    }\n",
       "\n",
       "    .dataframe thead th {\n",
       "        text-align: right;\n",
       "    }\n",
       "</style>\n",
       "<table border=\"1\" class=\"dataframe\">\n",
       "  <thead>\n",
       "    <tr style=\"text-align: right;\">\n",
       "      <th></th>\n",
       "      <th>count</th>\n",
       "      <th>mean</th>\n",
       "      <th>std</th>\n",
       "      <th>min</th>\n",
       "      <th>25%</th>\n",
       "      <th>50%</th>\n",
       "      <th>75%</th>\n",
       "      <th>max</th>\n",
       "    </tr>\n",
       "    <tr>\n",
       "      <th>feed</th>\n",
       "      <th></th>\n",
       "      <th></th>\n",
       "      <th></th>\n",
       "      <th></th>\n",
       "      <th></th>\n",
       "      <th></th>\n",
       "      <th></th>\n",
       "      <th></th>\n",
       "    </tr>\n",
       "  </thead>\n",
       "  <tbody>\n",
       "    <tr>\n",
       "      <th>casein</th>\n",
       "      <td>12.0</td>\n",
       "      <td>323.583333</td>\n",
       "      <td>64.433840</td>\n",
       "      <td>216.0</td>\n",
       "      <td>277.25</td>\n",
       "      <td>342.0</td>\n",
       "      <td>370.75</td>\n",
       "      <td>404.0</td>\n",
       "    </tr>\n",
       "    <tr>\n",
       "      <th>horsebean</th>\n",
       "      <td>10.0</td>\n",
       "      <td>160.200000</td>\n",
       "      <td>38.625841</td>\n",
       "      <td>108.0</td>\n",
       "      <td>137.00</td>\n",
       "      <td>151.5</td>\n",
       "      <td>176.25</td>\n",
       "      <td>227.0</td>\n",
       "    </tr>\n",
       "    <tr>\n",
       "      <th>linseed</th>\n",
       "      <td>12.0</td>\n",
       "      <td>218.750000</td>\n",
       "      <td>52.235698</td>\n",
       "      <td>141.0</td>\n",
       "      <td>178.00</td>\n",
       "      <td>221.0</td>\n",
       "      <td>257.75</td>\n",
       "      <td>309.0</td>\n",
       "    </tr>\n",
       "    <tr>\n",
       "      <th>meatmeal</th>\n",
       "      <td>11.0</td>\n",
       "      <td>276.909091</td>\n",
       "      <td>64.900623</td>\n",
       "      <td>153.0</td>\n",
       "      <td>249.50</td>\n",
       "      <td>263.0</td>\n",
       "      <td>320.00</td>\n",
       "      <td>380.0</td>\n",
       "    </tr>\n",
       "    <tr>\n",
       "      <th>soybean</th>\n",
       "      <td>14.0</td>\n",
       "      <td>246.428571</td>\n",
       "      <td>54.129068</td>\n",
       "      <td>158.0</td>\n",
       "      <td>206.75</td>\n",
       "      <td>248.0</td>\n",
       "      <td>270.00</td>\n",
       "      <td>329.0</td>\n",
       "    </tr>\n",
       "    <tr>\n",
       "      <th>sunflower</th>\n",
       "      <td>12.0</td>\n",
       "      <td>328.916667</td>\n",
       "      <td>48.836384</td>\n",
       "      <td>226.0</td>\n",
       "      <td>312.75</td>\n",
       "      <td>328.0</td>\n",
       "      <td>340.25</td>\n",
       "      <td>423.0</td>\n",
       "    </tr>\n",
       "  </tbody>\n",
       "</table>\n",
       "</div>"
      ],
      "text/plain": [
       "           count        mean        std    min     25%    50%     75%    max\n",
       "feed                                                                        \n",
       "casein      12.0  323.583333  64.433840  216.0  277.25  342.0  370.75  404.0\n",
       "horsebean   10.0  160.200000  38.625841  108.0  137.00  151.5  176.25  227.0\n",
       "linseed     12.0  218.750000  52.235698  141.0  178.00  221.0  257.75  309.0\n",
       "meatmeal    11.0  276.909091  64.900623  153.0  249.50  263.0  320.00  380.0\n",
       "soybean     14.0  246.428571  54.129068  158.0  206.75  248.0  270.00  329.0\n",
       "sunflower   12.0  328.916667  48.836384  226.0  312.75  328.0  340.25  423.0"
      ]
     },
     "execution_count": 33,
     "metadata": {},
     "output_type": "execute_result"
    }
   ],
   "source": [
    "d.groupby('feed')['weight'].describe()"
   ]
  },
  {
   "cell_type": "markdown",
   "metadata": {},
   "source": [
    "#### Hypothesis:--\n",
    "\n",
    "H0 : mu of cs = mu of hb = mu of ls = mu of mm = mu of sb = mu of sf\n",
    "\n",
    "H1 : mu of cs != mu of hb !=mu of ls != mu of mm != mu of sb != mu of sf\n",
    " "
   ]
  },
  {
   "cell_type": "code",
   "execution_count": 34,
   "metadata": {},
   "outputs": [
    {
     "data": {
      "image/png": "[encoded data removed]",
      "text/plain": [
       "<Figure size 432x288 with 1 Axes>"
      ]
     },
     "metadata": {
      "needs_background": "light"
     },
     "output_type": "display_data"
    }
   ],
   "source": [
    "###### Hypothesis:--\n",
    "\n",
    "## H0 : mu of cs = mu of hb = mu of ls = mu of mm = mu of sb = mu of sf\n",
    "## H1 : mu of cs != mu of hb !=mu of ls != mu of mm != mu of sb != mu of sf\n",
    " \n",
    "alpha=0.05\n",
    "\n",
    "sns.boxplot(d.feed,d.weight)\n",
    "plt.show()\n"
   ]
  },
  {
   "cell_type": "code",
   "execution_count": 35,
   "metadata": {},
   "outputs": [
    {
     "data": {
      "text/plain": [
       "<matplotlib.axes._subplots.AxesSubplot at 0x1aa56425908>"
      ]
     },
     "execution_count": 35,
     "metadata": {},
     "output_type": "execute_result"
    },
    {
     "data": {
      "image/png": "[encoded data removed]",
      "text/plain": [
       "<Figure size 432x288 with 1 Axes>"
      ]
     },
     "metadata": {
      "needs_background": "light"
     },
     "output_type": "display_data"
    }
   ],
   "source": [
    "sns.distplot(d[d['feed']=='casein']['weight'])"
   ]
  },
  {
   "cell_type": "code",
   "execution_count": 36,
   "metadata": {},
   "outputs": [
    {
     "data": {
      "text/html": [
       "<div>\n",
       "<style scoped>\n",
       "    .dataframe tbody tr th:only-of-type {\n",
       "        vertical-align: middle;\n",
       "    }\n",
       "\n",
       "    .dataframe tbody tr th {\n",
       "        vertical-align: top;\n",
       "    }\n",
       "\n",
       "    .dataframe thead th {\n",
       "        text-align: right;\n",
       "    }\n",
       "</style>\n",
       "<table border=\"1\" class=\"dataframe\">\n",
       "  <thead>\n",
       "    <tr style=\"text-align: right;\">\n",
       "      <th></th>\n",
       "      <th>weight</th>\n",
       "    </tr>\n",
       "    <tr>\n",
       "      <th>feed</th>\n",
       "      <th></th>\n",
       "    </tr>\n",
       "  </thead>\n",
       "  <tbody>\n",
       "    <tr>\n",
       "      <th>casein</th>\n",
       "      <td>-0.603021</td>\n",
       "    </tr>\n",
       "    <tr>\n",
       "      <th>horsebean</th>\n",
       "      <td>0.653784</td>\n",
       "    </tr>\n",
       "    <tr>\n",
       "      <th>linseed</th>\n",
       "      <td>0.012162</td>\n",
       "    </tr>\n",
       "    <tr>\n",
       "      <th>meatmeal</th>\n",
       "      <td>-0.329510</td>\n",
       "    </tr>\n",
       "    <tr>\n",
       "      <th>soybean</th>\n",
       "      <td>0.035112</td>\n",
       "    </tr>\n",
       "    <tr>\n",
       "      <th>sunflower</th>\n",
       "      <td>-0.071021</td>\n",
       "    </tr>\n",
       "  </tbody>\n",
       "</table>\n",
       "</div>"
      ],
      "text/plain": [
       "             weight\n",
       "feed               \n",
       "casein    -0.603021\n",
       "horsebean  0.653784\n",
       "linseed    0.012162\n",
       "meatmeal  -0.329510\n",
       "soybean    0.035112\n",
       "sunflower -0.071021"
      ]
     },
     "execution_count": 36,
     "metadata": {},
     "output_type": "execute_result"
    }
   ],
   "source": [
    "d.groupby('feed').skew()"
   ]
  },
  {
   "cell_type": "code",
   "execution_count": 37,
   "metadata": {},
   "outputs": [
    {
     "data": {
      "text/html": [
       "<div>\n",
       "<style scoped>\n",
       "    .dataframe tbody tr th:only-of-type {\n",
       "        vertical-align: middle;\n",
       "    }\n",
       "\n",
       "    .dataframe tbody tr th {\n",
       "        vertical-align: top;\n",
       "    }\n",
       "\n",
       "    .dataframe thead th {\n",
       "        text-align: right;\n",
       "    }\n",
       "</style>\n",
       "<table border=\"1\" class=\"dataframe\">\n",
       "  <thead>\n",
       "    <tr style=\"text-align: right;\">\n",
       "      <th></th>\n",
       "      <th>count</th>\n",
       "      <th>mean</th>\n",
       "      <th>std</th>\n",
       "      <th>min</th>\n",
       "      <th>25%</th>\n",
       "      <th>50%</th>\n",
       "      <th>75%</th>\n",
       "      <th>max</th>\n",
       "    </tr>\n",
       "    <tr>\n",
       "      <th>feed</th>\n",
       "      <th></th>\n",
       "      <th></th>\n",
       "      <th></th>\n",
       "      <th></th>\n",
       "      <th></th>\n",
       "      <th></th>\n",
       "      <th></th>\n",
       "      <th></th>\n",
       "    </tr>\n",
       "  </thead>\n",
       "  <tbody>\n",
       "    <tr>\n",
       "      <th>casein</th>\n",
       "      <td>12.0</td>\n",
       "      <td>323.583333</td>\n",
       "      <td>64.433840</td>\n",
       "      <td>216.0</td>\n",
       "      <td>277.25</td>\n",
       "      <td>342.0</td>\n",
       "      <td>370.75</td>\n",
       "      <td>404.0</td>\n",
       "    </tr>\n",
       "    <tr>\n",
       "      <th>horsebean</th>\n",
       "      <td>10.0</td>\n",
       "      <td>160.200000</td>\n",
       "      <td>38.625841</td>\n",
       "      <td>108.0</td>\n",
       "      <td>137.00</td>\n",
       "      <td>151.5</td>\n",
       "      <td>176.25</td>\n",
       "      <td>227.0</td>\n",
       "    </tr>\n",
       "    <tr>\n",
       "      <th>linseed</th>\n",
       "      <td>12.0</td>\n",
       "      <td>218.750000</td>\n",
       "      <td>52.235698</td>\n",
       "      <td>141.0</td>\n",
       "      <td>178.00</td>\n",
       "      <td>221.0</td>\n",
       "      <td>257.75</td>\n",
       "      <td>309.0</td>\n",
       "    </tr>\n",
       "    <tr>\n",
       "      <th>meatmeal</th>\n",
       "      <td>11.0</td>\n",
       "      <td>276.909091</td>\n",
       "      <td>64.900623</td>\n",
       "      <td>153.0</td>\n",
       "      <td>249.50</td>\n",
       "      <td>263.0</td>\n",
       "      <td>320.00</td>\n",
       "      <td>380.0</td>\n",
       "    </tr>\n",
       "    <tr>\n",
       "      <th>soybean</th>\n",
       "      <td>14.0</td>\n",
       "      <td>246.428571</td>\n",
       "      <td>54.129068</td>\n",
       "      <td>158.0</td>\n",
       "      <td>206.75</td>\n",
       "      <td>248.0</td>\n",
       "      <td>270.00</td>\n",
       "      <td>329.0</td>\n",
       "    </tr>\n",
       "    <tr>\n",
       "      <th>sunflower</th>\n",
       "      <td>12.0</td>\n",
       "      <td>328.916667</td>\n",
       "      <td>48.836384</td>\n",
       "      <td>226.0</td>\n",
       "      <td>312.75</td>\n",
       "      <td>328.0</td>\n",
       "      <td>340.25</td>\n",
       "      <td>423.0</td>\n",
       "    </tr>\n",
       "  </tbody>\n",
       "</table>\n",
       "</div>"
      ],
      "text/plain": [
       "           count        mean        std    min     25%    50%     75%    max\n",
       "feed                                                                        \n",
       "casein      12.0  323.583333  64.433840  216.0  277.25  342.0  370.75  404.0\n",
       "horsebean   10.0  160.200000  38.625841  108.0  137.00  151.5  176.25  227.0\n",
       "linseed     12.0  218.750000  52.235698  141.0  178.00  221.0  257.75  309.0\n",
       "meatmeal    11.0  276.909091  64.900623  153.0  249.50  263.0  320.00  380.0\n",
       "soybean     14.0  246.428571  54.129068  158.0  206.75  248.0  270.00  329.0\n",
       "sunflower   12.0  328.916667  48.836384  226.0  312.75  328.0  340.25  423.0"
      ]
     },
     "execution_count": 37,
     "metadata": {},
     "output_type": "execute_result"
    }
   ],
   "source": [
    "   #    # INFERENCES for the DATA:---\n",
    "\n",
    "### 1. Least median value for Horsebean\n",
    "### 2. Least skewed is Linseed\n",
    "### 3. There are 3 outliers in Sunflower\n",
    "### 4. Highest STD is for meatmeal\n",
    "### 5. Highest average weight for sunflower\n",
    "### 6. Highest median weight for casein\n",
    "### 7. Least STD for horsebean\n",
    "### 8. Highest weight for sunflower\n",
    "### 9. Least weight for horse bean\n",
    "\n",
    "\n",
    "\n",
    "d.groupby('feed')['weight'].describe()"
   ]
  },
  {
   "cell_type": "code",
   "execution_count": 38,
   "metadata": {},
   "outputs": [
    {
     "data": {
      "image/png": "[encoded data removed]",
      "text/plain": [
       "<Figure size 432x288 with 1 Axes>"
      ]
     },
     "metadata": {
      "needs_background": "light"
     },
     "output_type": "display_data"
    }
   ],
   "source": [
    "sns.distplot(d[d.feed=='meatmeal']['weight'])\n",
    "plt.show()"
   ]
  },
  {
   "cell_type": "markdown",
   "metadata": {},
   "source": [
    "###### Hypothesis:--  \n",
    "\n",
    "##### H0 : mu of cs = mu of hb = mu of ls = mu of mm = mu of sb = mu of sf         \n",
    "(mean of all the feed same[ feed is not impacting the weight ] )\n",
    "##### H1 : mu of cs != mu of hb !=mu of ls != mu of mm != mu of sb != mu of sf \n",
    "(mean of all the feed are not same [ feed is impacting weight ] )"
   ]
  },
  {
   "cell_type": "code",
   "execution_count": 39,
   "metadata": {},
   "outputs": [],
   "source": [
    "hb=d[d.feed=='horsebean']['weight']\n",
    "cs=d[d.feed=='casein']['weight']\n",
    "sf=d[d.feed=='sunflower']['weight']\n",
    "sb=d[d.feed=='soybean']['weight']\n",
    "ls=d[d.feed=='linseed']['weight']\n",
    "mm=d[d.feed=='meatmeal']['weight']"
   ]
  },
  {
   "cell_type": "code",
   "execution_count": 40,
   "metadata": {},
   "outputs": [
    {
     "data": {
      "text/plain": [
       "F_onewayResult(statistic=15.364799774712537, pvalue=5.936419853471331e-10)"
      ]
     },
     "execution_count": 40,
     "metadata": {},
     "output_type": "execute_result"
    }
   ],
   "source": [
    "st.f_oneway(hb,cs,sf,sb,ls,mm) \n",
    "\n",
    "### here p value is very lesser than alpha that means reject H0 i.e (mean of all the feed are not same [ feed is impacting weight ] )"
   ]
  },
  {
   "cell_type": "code",
   "execution_count": null,
   "metadata": {},
   "outputs": [],
   "source": []
  },
  {
   "cell_type": "markdown",
   "metadata": {},
   "source": [
    "Since P value is less than alpha(0.05) reject null hypothesis .It means there is an impact of feed on weight\n",
    "\n",
    "Post H0C analysis:-- if H0 or null hypothestis is rejected then we do poat of ANALYSIS:-    we do 'TUKEY HSD (Honest Significance Difference) ANALYSIS'"
   ]
  },
  {
   "cell_type": "code",
   "execution_count": 41,
   "metadata": {},
   "outputs": [],
   "source": [
    "from statsmodels.stats.multicomp import pairwise_tukeyhsd"
   ]
  },
  {
   "cell_type": "code",
   "execution_count": 47,
   "metadata": {},
   "outputs": [
    {
     "data": {
      "text/html": [
       "<table class=\"simpletable\">\n",
       "<caption>Multiple Comparison of Means - Tukey HSD, FWER=0.05</caption>\n",
       "<tr>\n",
       "   <th>group1</th>    <th>group2</th>   <th>meandiff</th>   <th>p-adj</th>   <th>lower</th>     <th>upper</th>  <th>reject</th>\n",
       "</tr>\n",
       "<tr>\n",
       "   <td>casein</td>   <td>horsebean</td> <td>-163.3833</td>  <td>0.001</td> <td>-232.3445</td> <td>-94.4222</td>  <td>True</td> \n",
       "</tr>\n",
       "<tr>\n",
       "   <td>casein</td>    <td>linseed</td>  <td>-104.8333</td>  <td>0.001</td> <td>-170.5852</td> <td>-39.0814</td>  <td>True</td> \n",
       "</tr>\n",
       "<tr>\n",
       "   <td>casein</td>   <td>meatmeal</td>  <td>-46.6742</td>  <td>0.3324</td> <td>-113.9039</td>  <td>20.5554</td>  <td>False</td>\n",
       "</tr>\n",
       "<tr>\n",
       "   <td>casein</td>    <td>soybean</td>  <td>-77.1548</td>  <td>0.0084</td> <td>-140.5149</td> <td>-13.7947</td>  <td>True</td> \n",
       "</tr>\n",
       "<tr>\n",
       "   <td>casein</td>   <td>sunflower</td>  <td>5.3333</td>     <td>0.9</td>  <td>-60.4186</td>   <td>71.0852</td>  <td>False</td>\n",
       "</tr>\n",
       "<tr>\n",
       "  <td>horsebean</td>  <td>linseed</td>    <td>58.55</td>   <td>0.1412</td> <td>-10.4112</td>  <td>127.5112</td>  <td>False</td>\n",
       "</tr>\n",
       "<tr>\n",
       "  <td>horsebean</td> <td>meatmeal</td>  <td>116.7091</td>   <td>0.001</td>  <td>46.3375</td>  <td>187.0806</td>  <td>True</td> \n",
       "</tr>\n",
       "<tr>\n",
       "  <td>horsebean</td>  <td>soybean</td>   <td>86.2286</td>  <td>0.0042</td>  <td>19.544</td>   <td>152.9132</td>  <td>True</td> \n",
       "</tr>\n",
       "<tr>\n",
       "  <td>horsebean</td> <td>sunflower</td> <td>168.7167</td>   <td>0.001</td>  <td>99.7555</td>  <td>237.6778</td>  <td>True</td> \n",
       "</tr>\n",
       "<tr>\n",
       "   <td>linseed</td>  <td>meatmeal</td>   <td>58.1591</td>  <td>0.1274</td>  <td>-9.0705</td>  <td>125.3887</td>  <td>False</td>\n",
       "</tr>\n",
       "<tr>\n",
       "   <td>linseed</td>   <td>soybean</td>   <td>27.6786</td>  <td>0.7679</td> <td>-35.6815</td>   <td>91.0387</td>  <td>False</td>\n",
       "</tr>\n",
       "<tr>\n",
       "   <td>linseed</td>  <td>sunflower</td> <td>110.1667</td>   <td>0.001</td>  <td>44.4148</td>  <td>175.9186</td>  <td>True</td> \n",
       "</tr>\n",
       "<tr>\n",
       "  <td>meatmeal</td>   <td>soybean</td>  <td>-30.4805</td>  <td>0.7133</td> <td>-95.3729</td>   <td>34.4118</td>  <td>False</td>\n",
       "</tr>\n",
       "<tr>\n",
       "  <td>meatmeal</td>  <td>sunflower</td>  <td>52.0076</td>  <td>0.2207</td> <td>-15.2221</td>  <td>119.2372</td>  <td>False</td>\n",
       "</tr>\n",
       "<tr>\n",
       "   <td>soybean</td>  <td>sunflower</td>  <td>82.4881</td>  <td>0.0039</td>  <td>19.128</td>   <td>145.8482</td>  <td>True</td> \n",
       "</tr>\n",
       "</table>"
      ],
      "text/plain": [
       "<class 'statsmodels.iolib.table.SimpleTable'>"
      ]
     },
     "execution_count": 47,
     "metadata": {},
     "output_type": "execute_result"
    }
   ],
   "source": [
    "pairwise_tukeyhsd(d.weight,d.feed, alpha=0.05).summary()      # it will check on alpha given basis and give list of reject\n",
    "\n",
    "\n",
    "\n",
    "# in p-adj column if p value < alpha reject H0 :----- True\n",
    "# in p-adj column if p value > alpha Accept H0 :----- False"
   ]
  },
  {
   "cell_type": "markdown",
   "metadata": {},
   "source": [
    " Inference:--- sunflower and casein are iligible for weight increase as low mean diff betrween both and then see on cost effectiveness aand give as per costeffectiveness."
   ]
  },
  {
   "cell_type": "code",
   "execution_count": null,
   "metadata": {},
   "outputs": [],
   "source": []
  },
  {
   "cell_type": "code",
   "execution_count": 8,
   "metadata": {},
   "outputs": [],
   "source": [
    "#### ASSUMPTIONS:---\n",
    "\n",
    "# 1) Test of Normality   ( SHAPIRO)\n",
    "# 2) Test of Variance    (Levene)\n",
    "# 3) Test of Randomness  ( One Sample T-test)"
   ]
  },
  {
   "cell_type": "code",
   "execution_count": null,
   "metadata": {},
   "outputs": [],
   "source": []
  },
  {
   "cell_type": "code",
   "execution_count": 9,
   "metadata": {},
   "outputs": [
    {
     "data": {
      "text/plain": [
       "F_onewayResult(statistic=7.532846715328462, pvalue=0.007595782602661818)"
      ]
     },
     "execution_count": 9,
     "metadata": {},
     "output_type": "execute_result"
    }
   ],
   "source": [
    "### Que-02\n",
    "\n",
    "m1=[15,14,20,15,16]\n",
    "m2=[10,14,9,10,11]\n",
    "m3=[17,12,14,15,12]\n",
    "\n",
    "st.f_oneway(m1,m2,m3)\n",
    "### here p value is less than alpha that means reject H0 "
   ]
  },
  {
   "cell_type": "code",
   "execution_count": null,
   "metadata": {},
   "outputs": [],
   "source": []
  },
  {
   "cell_type": "markdown",
   "metadata": {},
   "source": [
    "\n",
    "####  ( B ) Two Way ANNOVA:--"
   ]
  },
  {
   "cell_type": "markdown",
   "metadata": {},
   "source": [
    "HYPOTHESIS:--\n",
    "\n",
    "   #### FOR SOIL:- soil impacting on yield or not\n",
    "   \n",
    "H0: mu of s1 = mu of s2 = mu of s3\n",
    "\n",
    "H1: mu of s1 != mu of s2 != mu of s3\n",
    "\n",
    "   #### FOR FERTILIZER  :- fertilizer impacting on yield or not\n",
    "   \n",
    "H0: mu of Sa = mu of Sb = mu of Sc\n",
    "\n",
    "H1: mu of Sa != mu of Sb != mu of Sc"
   ]
  },
  {
   "cell_type": "code",
   "execution_count": 10,
   "metadata": {},
   "outputs": [],
   "source": [
    "## there is no two way ANOVA fun in python."
   ]
  },
  {
   "cell_type": "code",
   "execution_count": null,
   "metadata": {},
   "outputs": [],
   "source": []
  },
  {
   "cell_type": "markdown",
   "metadata": {},
   "source": [
    "### 4) Two sample related test [ paired ]  or Paired T Test:--"
   ]
  },
  {
   "cell_type": "code",
   "execution_count": 6,
   "metadata": {},
   "outputs": [
    {
     "data": {
      "text/plain": [
       "Ttest_relResult(statistic=-11.381954836452902, pvalue=3.704651177780503e-11)"
      ]
     },
     "execution_count": 6,
     "metadata": {},
     "output_type": "execute_result"
    }
   ],
   "source": [
    "## H0: mean of d = 0\n",
    "## H1: mean of d != 0\n",
    "\n",
    "wt_before = [76, 76, 72, 73, 64, 63, 75, 75, 71, 76, 71, 76, 78, 73, 76, 70, 71, 82, 84, 68, 70, 68, 66, 67, 74]\n",
    "wt_after  = [63, 72, 67, 69, 58, 59, 70, 71, 70, 71, 68, 71, 72, 69, 72, 67, 67, 78, 79, 62, 67, 63, 61, 63, 69]\n",
    "alpha=0.05\n",
    "n=25\n",
    "degree_of_freedom =n-1\n",
    "# tstat=(d_mean-mu)/(std/np.sqrt(n))                #method-1\n",
    "\n",
    "st.ttest_rel(wt_after,wt_before)\n",
    "\n",
    "### here p value is very lesser than alpha that means reject H0 "
   ]
  },
  {
   "cell_type": "code",
   "execution_count": 11,
   "metadata": {},
   "outputs": [
    {
     "data": {
      "text/plain": [
       "array([-13,  -4,  -5,  -4,  -6,  -4,  -5,  -4,  -1,  -5,  -3,  -5,  -6,\n",
       "        -4,  -4,  -3,  -4,  -4,  -5,  -6,  -3,  -5,  -5,  -4,  -5])"
      ]
     },
     "execution_count": 11,
     "metadata": {},
     "output_type": "execute_result"
    }
   ],
   "source": [
    "dif= np.array(wt_after)-np.array(wt_before)  \n",
    "dif                  # d value= after-before  "
   ]
  },
  {
   "cell_type": "code",
   "execution_count": 18,
   "metadata": {},
   "outputs": [
    {
     "data": {
      "text/plain": [
       "Ttest_1sampResult(statistic=-11.381954836452902, pvalue=3.704651177780503e-11)"
      ]
     },
     "execution_count": 18,
     "metadata": {},
     "output_type": "execute_result"
    }
   ],
   "source": [
    "## (diffrenece, population mean if not given take zero  ) \n",
    "st.ttest_1samp(dif,0)      #we can also one sample ttest after given d               #method-02  manual\n",
    "\n",
    "### here p value is very lesser than alpha that means reject H0 "
   ]
  },
  {
   "cell_type": "code",
   "execution_count": 7,
   "metadata": {},
   "outputs": [
    {
     "data": {
      "text/plain": [
       "1.708140761251899"
      ]
     },
     "execution_count": 7,
     "metadata": {},
     "output_type": "execute_result"
    }
   ],
   "source": [
    "st.t.isf(alpha,n)          ## t critical value"
   ]
  },
  {
   "cell_type": "code",
   "execution_count": 9,
   "metadata": {},
   "outputs": [
    {
     "data": {
      "text/plain": [
       "3.717649030123747e-11"
      ]
     },
     "execution_count": 9,
     "metadata": {},
     "output_type": "execute_result"
    }
   ],
   "source": [
    "st.t.cdf(-11.38,degree_of_freedom)+st.t.sf(11.38,degree_of_freedom)            #p value"
   ]
  },
  {
   "cell_type": "code",
   "execution_count": null,
   "metadata": {},
   "outputs": [],
   "source": []
  },
  {
   "cell_type": "markdown",
   "metadata": {},
   "source": [
    "## ( C )proportion Test:-  \n",
    "### 1) single proportion test zproportion test\n",
    "### 2) two proportion test"
   ]
  },
  {
   "cell_type": "code",
   "execution_count": 99,
   "metadata": {},
   "outputs": [
    {
     "data": {
      "text/html": [
       "<div>\n",
       "<style scoped>\n",
       "    .dataframe tbody tr th:only-of-type {\n",
       "        vertical-align: middle;\n",
       "    }\n",
       "\n",
       "    .dataframe tbody tr th {\n",
       "        vertical-align: top;\n",
       "    }\n",
       "\n",
       "    .dataframe thead th {\n",
       "        text-align: right;\n",
       "    }\n",
       "</style>\n",
       "<table border=\"1\" class=\"dataframe\">\n",
       "  <thead>\n",
       "    <tr style=\"text-align: right;\">\n",
       "      <th>pl</th>\n",
       "      <th>NO</th>\n",
       "      <th>YES</th>\n",
       "    </tr>\n",
       "    <tr>\n",
       "      <th>gender</th>\n",
       "      <th></th>\n",
       "      <th></th>\n",
       "    </tr>\n",
       "  </thead>\n",
       "  <tbody>\n",
       "    <tr>\n",
       "      <th>FEMALE</th>\n",
       "      <td>98</td>\n",
       "      <td>62</td>\n",
       "    </tr>\n",
       "    <tr>\n",
       "      <th>MALE</th>\n",
       "      <td>84</td>\n",
       "      <td>86</td>\n",
       "    </tr>\n",
       "  </tbody>\n",
       "</table>\n",
       "</div>"
      ],
      "text/plain": [
       "pl      NO  YES\n",
       "gender         \n",
       "FEMALE  98   62\n",
       "MALE    84   86"
      ]
     },
     "execution_count": 99,
     "metadata": {},
     "output_type": "execute_result"
    }
   ],
   "source": [
    "pd.crosstab(d.gender,d.pl)"
   ]
  },
  {
   "cell_type": "code",
   "execution_count": 100,
   "metadata": {},
   "outputs": [
    {
     "data": {
      "text/plain": [
       "NO     182\n",
       "YES    148\n",
       "Name: pl, dtype: int64"
      ]
     },
     "execution_count": 100,
     "metadata": {},
     "output_type": "execute_result"
    }
   ],
   "source": [
    "d.pl.value_counts()\n"
   ]
  },
  {
   "cell_type": "markdown",
   "metadata": {},
   "source": [
    "### 1) single proportion test:--"
   ]
  },
  {
   "cell_type": "code",
   "execution_count": 101,
   "metadata": {},
   "outputs": [
    {
     "data": {
      "text/plain": [
       "(5.423585591219213, 5.841522402204397e-08)"
      ]
     },
     "execution_count": 101,
     "metadata": {},
     "output_type": "execute_result"
    }
   ],
   "source": [
    "##single proportion test\n",
    "\n",
    "##H0: P=30%\n",
    "## H1: P!=30%\n",
    "\n",
    "p=0.3 \n",
    "#           (total no,total value,percentage)\n",
    "proportions_ztest(148,330,0.3)        #check for 30%f            #method 1\n",
    "### here p value is lesser than alpha that means reject H0 "
   ]
  },
  {
   "cell_type": "code",
   "execution_count": 102,
   "metadata": {},
   "outputs": [
    {
     "data": {
      "text/plain": [
       "(5.423585591219213, 5.841522402204397e-08)"
      ]
     },
     "execution_count": 102,
     "metadata": {},
     "output_type": "execute_result"
    }
   ],
   "source": [
    "proportions_ztest(len(d[d.pl=='YES']),len(d.pl),0.3)    #method 2\n",
    "### here p value is lesser than alpha that means reject H0 "
   ]
  },
  {
   "cell_type": "code",
   "execution_count": 103,
   "metadata": {},
   "outputs": [
    {
     "data": {
      "text/plain": [
       "(1.7709667236634157, 0.07656623546471893)"
      ]
     },
     "execution_count": 103,
     "metadata": {},
     "output_type": "execute_result"
    }
   ],
   "source": [
    "proportions_ztest(148,330,0.4)         #check for 40%\n",
    "### here p value is greater than alpha that means accept H0 "
   ]
  },
  {
   "cell_type": "code",
   "execution_count": 104,
   "metadata": {},
   "outputs": [
    {
     "data": {
      "text/plain": [
       "0.4484848484848485"
      ]
     },
     "execution_count": 104,
     "metadata": {},
     "output_type": "execute_result"
    }
   ],
   "source": [
    "148/330"
   ]
  },
  {
   "cell_type": "code",
   "execution_count": 105,
   "metadata": {},
   "outputs": [
    {
     "data": {
      "text/plain": [
       "(0.017709667236633874, 0.9858704685184021)"
      ]
     },
     "execution_count": 105,
     "metadata": {},
     "output_type": "execute_result"
    }
   ],
   "source": [
    "proportions_ztest(148,330,0.448)       #check for 44.8% which is exact\n",
    "### here p value is higher than alpha that means accept H0  as percentage increases"
   ]
  },
  {
   "cell_type": "markdown",
   "metadata": {},
   "source": [
    "### 2) Two proportion test:--"
   ]
  },
  {
   "cell_type": "code",
   "execution_count": 106,
   "metadata": {},
   "outputs": [
    {
     "data": {
      "text/html": [
       "<div>\n",
       "<style scoped>\n",
       "    .dataframe tbody tr th:only-of-type {\n",
       "        vertical-align: middle;\n",
       "    }\n",
       "\n",
       "    .dataframe tbody tr th {\n",
       "        vertical-align: top;\n",
       "    }\n",
       "\n",
       "    .dataframe thead th {\n",
       "        text-align: right;\n",
       "    }\n",
       "</style>\n",
       "<table border=\"1\" class=\"dataframe\">\n",
       "  <thead>\n",
       "    <tr style=\"text-align: right;\">\n",
       "      <th>gender</th>\n",
       "      <th>FEMALE</th>\n",
       "      <th>MALE</th>\n",
       "    </tr>\n",
       "    <tr>\n",
       "      <th>pl</th>\n",
       "      <th></th>\n",
       "      <th></th>\n",
       "    </tr>\n",
       "  </thead>\n",
       "  <tbody>\n",
       "    <tr>\n",
       "      <th>NO</th>\n",
       "      <td>98</td>\n",
       "      <td>84</td>\n",
       "    </tr>\n",
       "    <tr>\n",
       "      <th>YES</th>\n",
       "      <td>62</td>\n",
       "      <td>86</td>\n",
       "    </tr>\n",
       "  </tbody>\n",
       "</table>\n",
       "</div>"
      ],
      "text/plain": [
       "gender  FEMALE  MALE\n",
       "pl                  \n",
       "NO          98    84\n",
       "YES         62    86"
      ]
     },
     "execution_count": 106,
     "metadata": {},
     "output_type": "execute_result"
    }
   ],
   "source": [
    "### double proportion test:--\n",
    "\n",
    "\n",
    "## H0: Pm=Pf\n",
    "## H1: Pm!=Pf\n",
    "\n",
    "cont_table=pd.crosstab(d.pl,d.gender)\n",
    "cont_table"
   ]
  },
  {
   "cell_type": "code",
   "execution_count": 107,
   "metadata": {},
   "outputs": [
    {
     "data": {
      "text/plain": [
       "(2.1610351850000873, 0.03069262159535531)"
      ]
     },
     "execution_count": 107,
     "metadata": {},
     "output_type": "execute_result"
    }
   ],
   "source": [
    "#([male yes,female yes],[totalmale,total female])\n",
    "proportions_ztest([86,62],[170,160])       # 170 is total of male and 160 is total of female \n",
    "### here p value is lesser than alpha that means reject H0 "
   ]
  },
  {
   "cell_type": "markdown",
   "metadata": {},
   "source": []
  },
  {
   "cell_type": "markdown",
   "metadata": {},
   "source": [
    "# since it is not satisfy assumptions of parametric test hence we should apply non parametric test:-\n",
    "\n",
    "### 1) MAnnwhitney Test\n",
    "### 2) Test of Association(chi square test)\n",
    "### 3) Goodness of Fit\n",
    "### 4) Wilcoxon U Test\n",
    "### 5) Kruskal wallis Test\n"
   ]
  },
  {
   "cell_type": "markdown",
   "metadata": {},
   "source": []
  },
  {
   "cell_type": "markdown",
   "metadata": {},
   "source": [
    "## 1) Mannwhitney Test:-   ### more likly to two sample unrelated test of parametric\n",
    "\n",
    "it's like a t-test in non parametric.\n",
    "\n",
    "here this test will give the ranks towards male and female on basic of income as this is for categorical data"
   ]
  },
  {
   "cell_type": "code",
   "execution_count": 108,
   "metadata": {},
   "outputs": [
    {
     "data": {
      "text/plain": [
       "MannwhitneyuResult(statistic=13394.0, pvalue=0.40623189504528334)"
      ]
     },
     "execution_count": 108,
     "metadata": {},
     "output_type": "execute_result"
    }
   ],
   "source": [
    "##non parametric test\n",
    "\n",
    "## man and female income are unrelated \n",
    "mannwhitneyu(mi,fi)\n",
    "### here p value is lesser than alpha that means reject H0 "
   ]
  },
  {
   "cell_type": "code",
   "execution_count": 109,
   "metadata": {},
   "outputs": [
    {
     "data": {
      "image/png": "[encoded data removed]",
      "text/plain": [
       "<Figure size 432x288 with 1 Axes>"
      ]
     },
     "metadata": {
      "needs_background": "light"
     },
     "output_type": "display_data"
    }
   ],
   "source": [
    "sns.boxplot(d.gender,d.income)\n",
    "plt.show()"
   ]
  },
  {
   "cell_type": "code",
   "execution_count": 110,
   "metadata": {},
   "outputs": [
    {
     "data": {
      "text/plain": [
       "(27082.06017647058,\n",
       " 27435.078875000014,\n",
       " 24574.9,\n",
       " 24833.65,\n",
       " 13026.85865640879,\n",
       " 13144.527153631554)"
      ]
     },
     "execution_count": 110,
     "metadata": {},
     "output_type": "execute_result"
    }
   ],
   "source": [
    "mi.mean(),fi.mean(),np.median(mi),np.median(fi),mi.std(),fi.std()        #don't effect on sample of population.no need to same all sample"
   ]
  },
  {
   "cell_type": "code",
   "execution_count": null,
   "metadata": {},
   "outputs": [],
   "source": []
  },
  {
   "cell_type": "markdown",
   "metadata": {},
   "source": [
    "## 2)Test of Association ( CHI-Square Test):--"
   ]
  },
  {
   "cell_type": "code",
   "execution_count": 111,
   "metadata": {},
   "outputs": [
    {
     "data": {
      "text/html": [
       "<div>\n",
       "<style scoped>\n",
       "    .dataframe tbody tr th:only-of-type {\n",
       "        vertical-align: middle;\n",
       "    }\n",
       "\n",
       "    .dataframe tbody tr th {\n",
       "        vertical-align: top;\n",
       "    }\n",
       "\n",
       "    .dataframe thead th {\n",
       "        text-align: right;\n",
       "    }\n",
       "</style>\n",
       "<table border=\"1\" class=\"dataframe\">\n",
       "  <thead>\n",
       "    <tr style=\"text-align: right;\">\n",
       "      <th>pl</th>\n",
       "      <th>NO</th>\n",
       "      <th>YES</th>\n",
       "    </tr>\n",
       "    <tr>\n",
       "      <th>gender</th>\n",
       "      <th></th>\n",
       "      <th></th>\n",
       "    </tr>\n",
       "  </thead>\n",
       "  <tbody>\n",
       "    <tr>\n",
       "      <th>FEMALE</th>\n",
       "      <td>98</td>\n",
       "      <td>62</td>\n",
       "    </tr>\n",
       "    <tr>\n",
       "      <th>MALE</th>\n",
       "      <td>84</td>\n",
       "      <td>86</td>\n",
       "    </tr>\n",
       "  </tbody>\n",
       "</table>\n",
       "</div>"
      ],
      "text/plain": [
       "pl      NO  YES\n",
       "gender         \n",
       "FEMALE  98   62\n",
       "MALE    84   86"
      ]
     },
     "execution_count": 111,
     "metadata": {},
     "output_type": "execute_result"
    }
   ],
   "source": [
    "cont_table=pd.crosstab(d.gender,d.pl)\n",
    "cont_table\n"
   ]
  },
  {
   "cell_type": "code",
   "execution_count": 112,
   "metadata": {},
   "outputs": [
    {
     "data": {
      "text/plain": [
       "(4.203725620315688, 0.040335270903050946, 1, array([[88.24242424, 71.75757576],\n",
       "        [93.75757576, 76.24242424]]))"
      ]
     },
     "execution_count": 112,
     "metadata": {},
     "output_type": "execute_result"
    }
   ],
   "source": [
    "## H0: there is no association b/w gender and pl taken\n",
    "## H1: there is an association b/w gender and pl taken\n",
    "\n",
    "chi2_contingency(cont_table)\n",
    "### here p value is lesser than alpha that means reject H0 \n",
    "\n",
    "##( stastics , p-value , expected value as per observation)\n"
   ]
  },
  {
   "cell_type": "code",
   "execution_count": 113,
   "metadata": {},
   "outputs": [
    {
     "data": {
      "text/html": [
       "<div>\n",
       "<style scoped>\n",
       "    .dataframe tbody tr th:only-of-type {\n",
       "        vertical-align: middle;\n",
       "    }\n",
       "\n",
       "    .dataframe tbody tr th {\n",
       "        vertical-align: top;\n",
       "    }\n",
       "\n",
       "    .dataframe thead th {\n",
       "        text-align: right;\n",
       "    }\n",
       "</style>\n",
       "<table border=\"1\" class=\"dataframe\">\n",
       "  <thead>\n",
       "    <tr style=\"text-align: right;\">\n",
       "      <th>pl</th>\n",
       "      <th>NO</th>\n",
       "      <th>YES</th>\n",
       "    </tr>\n",
       "    <tr>\n",
       "      <th>married</th>\n",
       "      <th></th>\n",
       "      <th></th>\n",
       "    </tr>\n",
       "  </thead>\n",
       "  <tbody>\n",
       "    <tr>\n",
       "      <th>NO</th>\n",
       "      <td>53</td>\n",
       "      <td>63</td>\n",
       "    </tr>\n",
       "    <tr>\n",
       "      <th>YES</th>\n",
       "      <td>129</td>\n",
       "      <td>85</td>\n",
       "    </tr>\n",
       "  </tbody>\n",
       "</table>\n",
       "</div>"
      ],
      "text/plain": [
       "pl        NO  YES\n",
       "married          \n",
       "NO        53   63\n",
       "YES      129   85"
      ]
     },
     "execution_count": 113,
     "metadata": {},
     "output_type": "execute_result"
    }
   ],
   "source": [
    "cont_table=pd.crosstab(d.married,d.pl)\n",
    "cont_table"
   ]
  },
  {
   "cell_type": "code",
   "execution_count": 114,
   "metadata": {},
   "outputs": [
    {
     "data": {
      "text/plain": [
       "(5.898041621988204,\n",
       " 0.015157729377672154,\n",
       " 1,\n",
       " array([[ 63.97575758,  52.02424242],\n",
       "        [118.02424242,  95.97575758]]))"
      ]
     },
     "execution_count": 114,
     "metadata": {},
     "output_type": "execute_result"
    }
   ],
   "source": [
    "## H0: there is no association b/w gender and pl taken\n",
    "## H1: there is an association b/w gender and pl taken\n",
    "\n",
    "chi2_contingency(cont_table)\n",
    "### here p value is lesser than alpha that means reject H0 \n",
    "\n",
    "##( stastics , p-value , expected value as per observation)"
   ]
  },
  {
   "cell_type": "code",
   "execution_count": 115,
   "metadata": {},
   "outputs": [
    {
     "data": {
      "text/html": [
       "<div>\n",
       "<style scoped>\n",
       "    .dataframe tbody tr th:only-of-type {\n",
       "        vertical-align: middle;\n",
       "    }\n",
       "\n",
       "    .dataframe tbody tr th {\n",
       "        vertical-align: top;\n",
       "    }\n",
       "\n",
       "    .dataframe thead th {\n",
       "        text-align: right;\n",
       "    }\n",
       "</style>\n",
       "<table border=\"1\" class=\"dataframe\">\n",
       "  <thead>\n",
       "    <tr style=\"text-align: right;\">\n",
       "      <th>pl</th>\n",
       "      <th>NO</th>\n",
       "      <th>YES</th>\n",
       "    </tr>\n",
       "    <tr>\n",
       "      <th>region</th>\n",
       "      <th></th>\n",
       "      <th></th>\n",
       "    </tr>\n",
       "  </thead>\n",
       "  <tbody>\n",
       "    <tr>\n",
       "      <th>INNER_CITY</th>\n",
       "      <td>85</td>\n",
       "      <td>70</td>\n",
       "    </tr>\n",
       "    <tr>\n",
       "      <th>RURAL</th>\n",
       "      <td>26</td>\n",
       "      <td>28</td>\n",
       "    </tr>\n",
       "    <tr>\n",
       "      <th>SUBURBAN</th>\n",
       "      <td>14</td>\n",
       "      <td>11</td>\n",
       "    </tr>\n",
       "    <tr>\n",
       "      <th>TOWN</th>\n",
       "      <td>57</td>\n",
       "      <td>39</td>\n",
       "    </tr>\n",
       "  </tbody>\n",
       "</table>\n",
       "</div>"
      ],
      "text/plain": [
       "pl          NO  YES\n",
       "region             \n",
       "INNER_CITY  85   70\n",
       "RURAL       26   28\n",
       "SUBURBAN    14   11\n",
       "TOWN        57   39"
      ]
     },
     "execution_count": 115,
     "metadata": {},
     "output_type": "execute_result"
    }
   ],
   "source": [
    "cont_table=pd.crosstab(d.region,d.pl)\n",
    "cont_table"
   ]
  },
  {
   "cell_type": "code",
   "execution_count": 116,
   "metadata": {},
   "outputs": [
    {
     "data": {
      "text/plain": [
       "(1.776514811293037, 0.6200588623676881, 3, array([[85.48484848, 69.51515152],\n",
       "        [29.78181818, 24.21818182],\n",
       "        [13.78787879, 11.21212121],\n",
       "        [52.94545455, 43.05454545]]))"
      ]
     },
     "execution_count": 116,
     "metadata": {},
     "output_type": "execute_result"
    }
   ],
   "source": [
    "## H0: there is no association b/w gender and pl taken\n",
    "## H1: there is an association b/w gender and pl taken\n",
    "\n",
    "chi2_contingency(cont_table)\n",
    "### here p value is higher than alpha that means accept H0  so no association\n",
    "\n",
    "##( stastics , p-value , expected value as per observation)"
   ]
  },
  {
   "cell_type": "code",
   "execution_count": 117,
   "metadata": {},
   "outputs": [
    {
     "data": {
      "text/html": [
       "<div>\n",
       "<style scoped>\n",
       "    .dataframe tbody tr th:only-of-type {\n",
       "        vertical-align: middle;\n",
       "    }\n",
       "\n",
       "    .dataframe tbody tr th {\n",
       "        vertical-align: top;\n",
       "    }\n",
       "\n",
       "    .dataframe thead th {\n",
       "        text-align: right;\n",
       "    }\n",
       "</style>\n",
       "<table border=\"1\" class=\"dataframe\">\n",
       "  <thead>\n",
       "    <tr style=\"text-align: right;\">\n",
       "      <th>pl</th>\n",
       "      <th>NO</th>\n",
       "      <th>YES</th>\n",
       "    </tr>\n",
       "    <tr>\n",
       "      <th>children</th>\n",
       "      <th></th>\n",
       "      <th></th>\n",
       "    </tr>\n",
       "  </thead>\n",
       "  <tbody>\n",
       "    <tr>\n",
       "      <th>0</th>\n",
       "      <td>90</td>\n",
       "      <td>51</td>\n",
       "    </tr>\n",
       "    <tr>\n",
       "      <th>1</th>\n",
       "      <td>12</td>\n",
       "      <td>57</td>\n",
       "    </tr>\n",
       "    <tr>\n",
       "      <th>2</th>\n",
       "      <td>50</td>\n",
       "      <td>32</td>\n",
       "    </tr>\n",
       "    <tr>\n",
       "      <th>3</th>\n",
       "      <td>30</td>\n",
       "      <td>8</td>\n",
       "    </tr>\n",
       "  </tbody>\n",
       "</table>\n",
       "</div>"
      ],
      "text/plain": [
       "pl        NO  YES\n",
       "children         \n",
       "0         90   51\n",
       "1         12   57\n",
       "2         50   32\n",
       "3         30    8"
      ]
     },
     "execution_count": 117,
     "metadata": {},
     "output_type": "execute_result"
    }
   ],
   "source": [
    "cont_table=pd.crosstab(d.children,d.pl)\n",
    "cont_table"
   ]
  },
  {
   "cell_type": "code",
   "execution_count": 118,
   "metadata": {},
   "outputs": [
    {
     "data": {
      "text/plain": [
       "(53.89216994212963,\n",
       " 1.1830750145503304e-11,\n",
       " 3,\n",
       " array([[77.76363636, 63.23636364],\n",
       "        [38.05454545, 30.94545455],\n",
       "        [45.22424242, 36.77575758],\n",
       "        [20.95757576, 17.04242424]]))"
      ]
     },
     "execution_count": 118,
     "metadata": {},
     "output_type": "execute_result"
    }
   ],
   "source": [
    "## H0: there is no association b/w gender and pl taken\n",
    "## H1: there is an association b/w gender and pl taken\n",
    "\n",
    "chi2_contingency(cont_table)\n",
    "### here p value is lesser than alpha that means reject H0  so assocition\n",
    "\n",
    "##( stastics , p-value , expected value as per observation)"
   ]
  },
  {
   "cell_type": "code",
   "execution_count": 119,
   "metadata": {},
   "outputs": [
    {
     "data": {
      "text/html": [
       "<div>\n",
       "<style scoped>\n",
       "    .dataframe tbody tr th:only-of-type {\n",
       "        vertical-align: middle;\n",
       "    }\n",
       "\n",
       "    .dataframe tbody tr th {\n",
       "        vertical-align: top;\n",
       "    }\n",
       "\n",
       "    .dataframe thead th {\n",
       "        text-align: right;\n",
       "    }\n",
       "</style>\n",
       "<table border=\"1\" class=\"dataframe\">\n",
       "  <thead>\n",
       "    <tr style=\"text-align: right;\">\n",
       "      <th>pl</th>\n",
       "      <th>NO</th>\n",
       "      <th>YES</th>\n",
       "    </tr>\n",
       "    <tr>\n",
       "      <th>car</th>\n",
       "      <th></th>\n",
       "      <th></th>\n",
       "    </tr>\n",
       "  </thead>\n",
       "  <tbody>\n",
       "    <tr>\n",
       "      <th>NO</th>\n",
       "      <td>95</td>\n",
       "      <td>79</td>\n",
       "    </tr>\n",
       "    <tr>\n",
       "      <th>YES</th>\n",
       "      <td>87</td>\n",
       "      <td>69</td>\n",
       "    </tr>\n",
       "  </tbody>\n",
       "</table>\n",
       "</div>"
      ],
      "text/plain": [
       "pl   NO  YES\n",
       "car         \n",
       "NO   95   79\n",
       "YES  87   69"
      ]
     },
     "execution_count": 119,
     "metadata": {},
     "output_type": "execute_result"
    }
   ],
   "source": [
    "cont_table=pd.crosstab(d.car,d.pl)\n",
    "cont_table"
   ]
  },
  {
   "cell_type": "code",
   "execution_count": 120,
   "metadata": {},
   "outputs": [
    {
     "data": {
      "text/plain": [
       "(0.010565495064832148,\n",
       " 0.9181307579498735,\n",
       " 1,\n",
       " array([[95.96363636, 78.03636364],\n",
       "        [86.03636364, 69.96363636]]))"
      ]
     },
     "execution_count": 120,
     "metadata": {},
     "output_type": "execute_result"
    }
   ],
   "source": [
    "## H0: there is no association b/w gender and pl taken\n",
    "## H1: there is an association b/w gender and pl taken\n",
    "\n",
    "chi2_contingency(cont_table)\n",
    "### here p value is higher than alpha that means accept H0  so no assocition\n",
    "\n",
    "##( stastics , p-value , expected value as per observation)"
   ]
  },
  {
   "cell_type": "code",
   "execution_count": 121,
   "metadata": {},
   "outputs": [
    {
     "data": {
      "text/html": [
       "<div>\n",
       "<style scoped>\n",
       "    .dataframe tbody tr th:only-of-type {\n",
       "        vertical-align: middle;\n",
       "    }\n",
       "\n",
       "    .dataframe tbody tr th {\n",
       "        vertical-align: top;\n",
       "    }\n",
       "\n",
       "    .dataframe thead th {\n",
       "        text-align: right;\n",
       "    }\n",
       "</style>\n",
       "<table border=\"1\" class=\"dataframe\">\n",
       "  <thead>\n",
       "    <tr style=\"text-align: right;\">\n",
       "      <th>pl</th>\n",
       "      <th>NO</th>\n",
       "      <th>YES</th>\n",
       "    </tr>\n",
       "    <tr>\n",
       "      <th>mortgage</th>\n",
       "      <th></th>\n",
       "      <th></th>\n",
       "    </tr>\n",
       "  </thead>\n",
       "  <tbody>\n",
       "    <tr>\n",
       "      <th>NO</th>\n",
       "      <td>121</td>\n",
       "      <td>102</td>\n",
       "    </tr>\n",
       "    <tr>\n",
       "      <th>YES</th>\n",
       "      <td>61</td>\n",
       "      <td>46</td>\n",
       "    </tr>\n",
       "  </tbody>\n",
       "</table>\n",
       "</div>"
      ],
      "text/plain": [
       "pl         NO  YES\n",
       "mortgage          \n",
       "NO        121  102\n",
       "YES        61   46"
      ]
     },
     "execution_count": 121,
     "metadata": {},
     "output_type": "execute_result"
    }
   ],
   "source": [
    "cont_table=pd.crosstab(d.mortgage,d.pl)\n",
    "cont_table"
   ]
  },
  {
   "cell_type": "code",
   "execution_count": 122,
   "metadata": {},
   "outputs": [
    {
     "data": {
      "text/plain": [
       "(0.12378134004427904,\n",
       " 0.7249689654993441,\n",
       " 1,\n",
       " array([[122.98787879, 100.01212121],\n",
       "        [ 59.01212121,  47.98787879]]))"
      ]
     },
     "execution_count": 122,
     "metadata": {},
     "output_type": "execute_result"
    }
   ],
   "source": [
    "## H0: there is no association b/w gender and pl taken\n",
    "## H1: there is an association b/w gender and pl taken\n",
    "\n",
    "chi2_contingency(cont_table)\n",
    "### here p value is higher than alpha that means accept H0  so no assocition\n",
    "\n",
    "##( stastics , p-value , expected value as per observation)"
   ]
  },
  {
   "cell_type": "code",
   "execution_count": 123,
   "metadata": {},
   "outputs": [
    {
     "data": {
      "text/html": [
       "<div>\n",
       "<style scoped>\n",
       "    .dataframe tbody tr th:only-of-type {\n",
       "        vertical-align: middle;\n",
       "    }\n",
       "\n",
       "    .dataframe tbody tr th {\n",
       "        vertical-align: top;\n",
       "    }\n",
       "\n",
       "    .dataframe thead th {\n",
       "        text-align: right;\n",
       "    }\n",
       "</style>\n",
       "<table border=\"1\" class=\"dataframe\">\n",
       "  <thead>\n",
       "    <tr style=\"text-align: right;\">\n",
       "      <th>pl</th>\n",
       "      <th>NO</th>\n",
       "      <th>YES</th>\n",
       "    </tr>\n",
       "    <tr>\n",
       "      <th>save_act</th>\n",
       "      <th></th>\n",
       "      <th></th>\n",
       "    </tr>\n",
       "  </thead>\n",
       "  <tbody>\n",
       "    <tr>\n",
       "      <th>NO</th>\n",
       "      <td>56</td>\n",
       "      <td>47</td>\n",
       "    </tr>\n",
       "    <tr>\n",
       "      <th>YES</th>\n",
       "      <td>126</td>\n",
       "      <td>101</td>\n",
       "    </tr>\n",
       "  </tbody>\n",
       "</table>\n",
       "</div>"
      ],
      "text/plain": [
       "pl         NO  YES\n",
       "save_act          \n",
       "NO         56   47\n",
       "YES       126  101"
      ]
     },
     "execution_count": 123,
     "metadata": {},
     "output_type": "execute_result"
    }
   ],
   "source": [
    "cont_table=pd.crosstab(d.save_act,d.pl)\n",
    "cont_table"
   ]
  },
  {
   "cell_type": "code",
   "execution_count": 124,
   "metadata": {},
   "outputs": [
    {
     "data": {
      "text/plain": [
       "(0.005345157445153201,\n",
       " 0.9417181196452988,\n",
       " 1,\n",
       " array([[ 56.80606061,  46.19393939],\n",
       "        [125.19393939, 101.80606061]]))"
      ]
     },
     "execution_count": 124,
     "metadata": {},
     "output_type": "execute_result"
    }
   ],
   "source": [
    "## H0: there is no association b/w gender and pl taken\n",
    "## H1: there is an association b/w gender and pl taken\n",
    "\n",
    "chi2_contingency(cont_table)\n",
    "### here p value is higher than alpha that means accept H0  so no assocition\n",
    "\n",
    "##( stastics , p-value , expected value as per observation)"
   ]
  },
  {
   "cell_type": "code",
   "execution_count": 125,
   "metadata": {},
   "outputs": [
    {
     "data": {
      "text/html": [
       "<div>\n",
       "<style scoped>\n",
       "    .dataframe tbody tr th:only-of-type {\n",
       "        vertical-align: middle;\n",
       "    }\n",
       "\n",
       "    .dataframe tbody tr th {\n",
       "        vertical-align: top;\n",
       "    }\n",
       "\n",
       "    .dataframe thead th {\n",
       "        text-align: right;\n",
       "    }\n",
       "</style>\n",
       "<table border=\"1\" class=\"dataframe\">\n",
       "  <thead>\n",
       "    <tr style=\"text-align: right;\">\n",
       "      <th>pl</th>\n",
       "      <th>NO</th>\n",
       "      <th>YES</th>\n",
       "    </tr>\n",
       "    <tr>\n",
       "      <th>save_act</th>\n",
       "      <th></th>\n",
       "      <th></th>\n",
       "    </tr>\n",
       "  </thead>\n",
       "  <tbody>\n",
       "    <tr>\n",
       "      <th>NO</th>\n",
       "      <td>56</td>\n",
       "      <td>47</td>\n",
       "    </tr>\n",
       "    <tr>\n",
       "      <th>YES</th>\n",
       "      <td>126</td>\n",
       "      <td>101</td>\n",
       "    </tr>\n",
       "  </tbody>\n",
       "</table>\n",
       "</div>"
      ],
      "text/plain": [
       "pl         NO  YES\n",
       "save_act          \n",
       "NO         56   47\n",
       "YES       126  101"
      ]
     },
     "execution_count": 125,
     "metadata": {},
     "output_type": "execute_result"
    }
   ],
   "source": [
    "cont_table=pd.crosstab(d.save_act,d.pl)\n",
    "cont_table"
   ]
  },
  {
   "cell_type": "code",
   "execution_count": 126,
   "metadata": {},
   "outputs": [
    {
     "data": {
      "text/plain": [
       "(0.005345157445153201,\n",
       " 0.9417181196452988,\n",
       " 1,\n",
       " array([[ 56.80606061,  46.19393939],\n",
       "        [125.19393939, 101.80606061]]))"
      ]
     },
     "execution_count": 126,
     "metadata": {},
     "output_type": "execute_result"
    }
   ],
   "source": [
    "## H0: there is no association b/w gender and pl taken\n",
    "## H1: there is an association b/w gender and pl taken\n",
    "\n",
    "chi2_contingency(cont_table)\n",
    "### here p value is higher than alpha that means accept H0  so no assocition\n",
    "\n",
    "##( stastics , p-value , expected value as per observation)"
   ]
  },
  {
   "cell_type": "code",
   "execution_count": 127,
   "metadata": {},
   "outputs": [
    {
     "data": {
      "text/html": [
       "<div>\n",
       "<style scoped>\n",
       "    .dataframe tbody tr th:only-of-type {\n",
       "        vertical-align: middle;\n",
       "    }\n",
       "\n",
       "    .dataframe tbody tr th {\n",
       "        vertical-align: top;\n",
       "    }\n",
       "\n",
       "    .dataframe thead th {\n",
       "        text-align: right;\n",
       "    }\n",
       "</style>\n",
       "<table border=\"1\" class=\"dataframe\">\n",
       "  <thead>\n",
       "    <tr style=\"text-align: right;\">\n",
       "      <th>pl</th>\n",
       "      <th>NO</th>\n",
       "      <th>YES</th>\n",
       "    </tr>\n",
       "    <tr>\n",
       "      <th>current_act</th>\n",
       "      <th></th>\n",
       "      <th></th>\n",
       "    </tr>\n",
       "  </thead>\n",
       "  <tbody>\n",
       "    <tr>\n",
       "      <th>NO</th>\n",
       "      <td>43</td>\n",
       "      <td>28</td>\n",
       "    </tr>\n",
       "    <tr>\n",
       "      <th>YES</th>\n",
       "      <td>139</td>\n",
       "      <td>120</td>\n",
       "    </tr>\n",
       "  </tbody>\n",
       "</table>\n",
       "</div>"
      ],
      "text/plain": [
       "pl            NO  YES\n",
       "current_act          \n",
       "NO            43   28\n",
       "YES          139  120"
      ]
     },
     "execution_count": 127,
     "metadata": {},
     "output_type": "execute_result"
    }
   ],
   "source": [
    "cont_table=pd.crosstab(d.current_act,d.pl)\n",
    "cont_table"
   ]
  },
  {
   "cell_type": "code",
   "execution_count": 128,
   "metadata": {},
   "outputs": [
    {
     "data": {
      "text/plain": [
       "(0.8105386870545395,\n",
       " 0.36796103562830784,\n",
       " 1,\n",
       " array([[ 39.15757576,  31.84242424],\n",
       "        [142.84242424, 116.15757576]]))"
      ]
     },
     "execution_count": 128,
     "metadata": {},
     "output_type": "execute_result"
    }
   ],
   "source": [
    "## H0: there is no association b/w gender and pl taken\n",
    "## H1: there is an association b/w gender and pl taken\n",
    "\n",
    "chi2_contingency(cont_table)\n",
    "### here p value is lesser than alpha that means rejectr H0  so  assocition\n",
    "\n",
    "##( stastics , p-value , expected value as per observation)"
   ]
  },
  {
   "cell_type": "code",
   "execution_count": 129,
   "metadata": {},
   "outputs": [
    {
     "data": {
      "text/html": [
       "<div>\n",
       "<style scoped>\n",
       "    .dataframe tbody tr th:only-of-type {\n",
       "        vertical-align: middle;\n",
       "    }\n",
       "\n",
       "    .dataframe tbody tr th {\n",
       "        vertical-align: top;\n",
       "    }\n",
       "\n",
       "    .dataframe thead th {\n",
       "        text-align: right;\n",
       "    }\n",
       "</style>\n",
       "<table border=\"1\" class=\"dataframe\">\n",
       "  <thead>\n",
       "    <tr style=\"text-align: right;\">\n",
       "      <th></th>\n",
       "      <th>age</th>\n",
       "      <th>income</th>\n",
       "      <th>children</th>\n",
       "    </tr>\n",
       "  </thead>\n",
       "  <tbody>\n",
       "    <tr>\n",
       "      <th>age</th>\n",
       "      <td>1.000000</td>\n",
       "      <td>0.745769</td>\n",
       "      <td>-0.005431</td>\n",
       "    </tr>\n",
       "    <tr>\n",
       "      <th>income</th>\n",
       "      <td>0.745769</td>\n",
       "      <td>1.000000</td>\n",
       "      <td>0.057417</td>\n",
       "    </tr>\n",
       "    <tr>\n",
       "      <th>children</th>\n",
       "      <td>-0.005431</td>\n",
       "      <td>0.057417</td>\n",
       "      <td>1.000000</td>\n",
       "    </tr>\n",
       "  </tbody>\n",
       "</table>\n",
       "</div>"
      ],
      "text/plain": [
       "               age    income  children\n",
       "age       1.000000  0.745769 -0.005431\n",
       "income    0.745769  1.000000  0.057417\n",
       "children -0.005431  0.057417  1.000000"
      ]
     },
     "execution_count": 129,
     "metadata": {},
     "output_type": "execute_result"
    }
   ],
   "source": [
    "### t -test\n",
    "\n",
    "## H0: r=0   # r is correlation coefficient\n",
    "## H1: r!=0\n",
    "\n",
    "d.corr()"
   ]
  },
  {
   "cell_type": "code",
   "execution_count": 130,
   "metadata": {},
   "outputs": [
    {
     "data": {
      "text/plain": [
       "(0.7457687646809331, 8.191938869097008e-60)"
      ]
     },
     "execution_count": 130,
     "metadata": {},
     "output_type": "execute_result"
    }
   ],
   "source": [
    "## H0: r=0   # r is correlation coefficient\n",
    "## H1: r!=0\n",
    "\n",
    "## correlation test\n",
    "from scipy.stats import pearsonr\n",
    "\n",
    "\n",
    "pearsonr(d.age,d.income)\n",
    "### here p value is lesser than alpha that means reject H0  so  assocition"
   ]
  },
  {
   "cell_type": "code",
   "execution_count": null,
   "metadata": {},
   "outputs": [],
   "source": []
  },
  {
   "cell_type": "markdown",
   "metadata": {},
   "source": [
    "### 4) Wilcoxon U Test:--  For paired T-Test in non-Parametric  test"
   ]
  },
  {
   "cell_type": "code",
   "execution_count": 31,
   "metadata": {},
   "outputs": [
    {
     "data": {
      "text/plain": [
       "((0.9580029249191284, 0.37613582611083984),\n",
       " (0.9754794239997864, 0.7835781574249268))"
      ]
     },
     "execution_count": 31,
     "metadata": {},
     "output_type": "execute_result"
    }
   ],
   "source": [
    "wt_before = [76, 76, 72, 73, 64, 63, 75, 75, 71, 76, 71, 76, 78, 73, 76, 70, 71, 82, 84, 68, 70, 68, 66, 67, 74]\n",
    "wt_after  = [63, 72, 67, 69, 58, 59, 70, 71, 70, 71, 68, 71, 72, 69, 72, 67, 67, 78, 79, 62, 67, 63, 61, 63, 69]\n",
    "alpha=0.05\n",
    "\n",
    "shapiro(wt_after),shapiro(wt_before)   #normal distriobution so don't do non parametric only do parametric"
   ]
  },
  {
   "cell_type": "code",
   "execution_count": 38,
   "metadata": {},
   "outputs": [
    {
     "data": {
      "text/plain": [
       "((0.8395571112632751, 0.04358839988708496),\n",
       " (0.7210698127746582, 0.0015869945054873824))"
      ]
     },
     "execution_count": 38,
     "metadata": {},
     "output_type": "execute_result"
    }
   ],
   "source": [
    "## H0: mean of d = 0\n",
    "## H1: mean of d != 0\n",
    "\n",
    "mb=[62,64,40,65,76,82,53,1,0,0]          # always no. of observation need to same before or after in sample\n",
    "ma=[52,56,61,47,58,52,56,2,3,4]\n",
    "\n",
    "shapiro(mb),shapiro(ma) #check normality first\n",
    "\n",
    "#since this distribution is not following normal so use go for wilcoxon U test"
   ]
  },
  {
   "cell_type": "code",
   "execution_count": 43,
   "metadata": {},
   "outputs": [
    {
     "data": {
      "text/plain": [
       "WilcoxonResult(statistic=19.0, pvalue=0.38565298663545133)"
      ]
     },
     "execution_count": 43,
     "metadata": {},
     "output_type": "execute_result"
    }
   ],
   "source": [
    "wilcoxon(mb,ma)      \n",
    "### here p value is greater than alpha that means accept H0   (marks before = marks after)"
   ]
  },
  {
   "cell_type": "code",
   "execution_count": 46,
   "metadata": {},
   "outputs": [
    {
     "data": {
      "text/plain": [
       "array([ 10,   8, -21,  18,  18,  30,  -3,  -1,  -3,  -4])"
      ]
     },
     "execution_count": 46,
     "metadata": {},
     "output_type": "execute_result"
    }
   ],
   "source": [
    "mb=[62,64,40,65,76,82,53,1,0,0]          \n",
    "ma=[52,56,61,47,58,52,56,2,3,4]\n",
    "dif=np.array(mb)-np.array(ma)                   #method-2\n",
    "dif"
   ]
  },
  {
   "cell_type": "code",
   "execution_count": 51,
   "metadata": {},
   "outputs": [
    {
     "data": {
      "text/plain": [
       "WilcoxonResult(statistic=19.0, pvalue=0.38565298663545133)"
      ]
     },
     "execution_count": 51,
     "metadata": {},
     "output_type": "execute_result"
    }
   ],
   "source": [
    "wilcoxon(dif)"
   ]
  },
  {
   "cell_type": "code",
   "execution_count": null,
   "metadata": {},
   "outputs": [],
   "source": []
  },
  {
   "cell_type": "markdown",
   "metadata": {},
   "source": [
    "### KRUSKAL WALIS :- NON Parametric test:-"
   ]
  },
  {
   "cell_type": "code",
   "execution_count": null,
   "metadata": {},
   "outputs": [],
   "source": [
    "stats.kruskal(X1,X2,X3)"
   ]
  },
  {
   "cell_type": "markdown",
   "metadata": {},
   "source": [
    "   #                                        REGRESSION ANALYSIS:-"
   ]
  },
  {
   "cell_type": "markdown",
   "metadata": {},
   "source": [
    "### Advertising Dataset"
   ]
  },
  {
   "cell_type": "code",
   "execution_count": 22,
   "metadata": {},
   "outputs": [
    {
     "data": {
      "text/html": [
       "<div>\n",
       "<style scoped>\n",
       "    .dataframe tbody tr th:only-of-type {\n",
       "        vertical-align: middle;\n",
       "    }\n",
       "\n",
       "    .dataframe tbody tr th {\n",
       "        vertical-align: top;\n",
       "    }\n",
       "\n",
       "    .dataframe thead th {\n",
       "        text-align: right;\n",
       "    }\n",
       "</style>\n",
       "<table border=\"1\" class=\"dataframe\">\n",
       "  <thead>\n",
       "    <tr style=\"text-align: right;\">\n",
       "      <th></th>\n",
       "      <th>Unnamed: 0</th>\n",
       "      <th>TV</th>\n",
       "      <th>Radio</th>\n",
       "      <th>Newspaper</th>\n",
       "      <th>Sales</th>\n",
       "    </tr>\n",
       "  </thead>\n",
       "  <tbody>\n",
       "    <tr>\n",
       "      <th>0</th>\n",
       "      <td>1</td>\n",
       "      <td>230.1</td>\n",
       "      <td>37.8</td>\n",
       "      <td>69.2</td>\n",
       "      <td>22.1</td>\n",
       "    </tr>\n",
       "    <tr>\n",
       "      <th>1</th>\n",
       "      <td>2</td>\n",
       "      <td>44.5</td>\n",
       "      <td>39.3</td>\n",
       "      <td>45.1</td>\n",
       "      <td>10.4</td>\n",
       "    </tr>\n",
       "    <tr>\n",
       "      <th>2</th>\n",
       "      <td>3</td>\n",
       "      <td>17.2</td>\n",
       "      <td>45.9</td>\n",
       "      <td>69.3</td>\n",
       "      <td>9.3</td>\n",
       "    </tr>\n",
       "    <tr>\n",
       "      <th>3</th>\n",
       "      <td>4</td>\n",
       "      <td>151.5</td>\n",
       "      <td>41.3</td>\n",
       "      <td>58.5</td>\n",
       "      <td>18.5</td>\n",
       "    </tr>\n",
       "    <tr>\n",
       "      <th>4</th>\n",
       "      <td>5</td>\n",
       "      <td>180.8</td>\n",
       "      <td>10.8</td>\n",
       "      <td>58.4</td>\n",
       "      <td>12.9</td>\n",
       "    </tr>\n",
       "  </tbody>\n",
       "</table>\n",
       "</div>"
      ],
      "text/plain": [
       "   Unnamed: 0     TV  Radio  Newspaper  Sales\n",
       "0           1  230.1   37.8       69.2   22.1\n",
       "1           2   44.5   39.3       45.1   10.4\n",
       "2           3   17.2   45.9       69.3    9.3\n",
       "3           4  151.5   41.3       58.5   18.5\n",
       "4           5  180.8   10.8       58.4   12.9"
      ]
     },
     "execution_count": 22,
     "metadata": {},
     "output_type": "execute_result"
    }
   ],
   "source": [
    "d=pd.read_csv('Advertising.csv')\n",
    "d.head()"
   ]
  },
  {
   "cell_type": "code",
   "execution_count": 16,
   "metadata": {},
   "outputs": [
    {
     "data": {
      "text/plain": [
       "(200, 5)"
      ]
     },
     "execution_count": 16,
     "metadata": {},
     "output_type": "execute_result"
    }
   ],
   "source": [
    "d.shape"
   ]
  },
  {
   "cell_type": "code",
   "execution_count": 23,
   "metadata": {},
   "outputs": [],
   "source": [
    "import statsmodels.api as sm\n",
    "from statsmodels.formula.api import ols"
   ]
  },
  {
   "cell_type": "code",
   "execution_count": 29,
   "metadata": {},
   "outputs": [],
   "source": [
    "## Simple Linear Regression:\n",
    "\n",
    "model1= ols('Sales ~ Newspaper',data=d).fit()         # sales is a fun of Newspaper"
   ]
  },
  {
   "cell_type": "code",
   "execution_count": 30,
   "metadata": {},
   "outputs": [
    {
     "data": {
      "text/html": [
       "<table class=\"simpletable\">\n",
       "<caption>OLS Regression Results</caption>\n",
       "<tr>\n",
       "  <th>Dep. Variable:</th>          <td>Sales</td>      <th>  R-squared:         </th> <td>   0.052</td>\n",
       "</tr>\n",
       "<tr>\n",
       "  <th>Model:</th>                   <td>OLS</td>       <th>  Adj. R-squared:    </th> <td>   0.047</td>\n",
       "</tr>\n",
       "<tr>\n",
       "  <th>Method:</th>             <td>Least Squares</td>  <th>  F-statistic:       </th> <td>   10.89</td>\n",
       "</tr>\n",
       "<tr>\n",
       "  <th>Date:</th>             <td>Thu, 17 Oct 2019</td> <th>  Prob (F-statistic):</th>  <td>0.00115</td>\n",
       "</tr>\n",
       "<tr>\n",
       "  <th>Time:</th>                 <td>17:07:51</td>     <th>  Log-Likelihood:    </th> <td> -608.34</td>\n",
       "</tr>\n",
       "<tr>\n",
       "  <th>No. Observations:</th>      <td>   200</td>      <th>  AIC:               </th> <td>   1221.</td>\n",
       "</tr>\n",
       "<tr>\n",
       "  <th>Df Residuals:</th>          <td>   198</td>      <th>  BIC:               </th> <td>   1227.</td>\n",
       "</tr>\n",
       "<tr>\n",
       "  <th>Df Model:</th>              <td>     1</td>      <th>                     </th>     <td> </td>   \n",
       "</tr>\n",
       "<tr>\n",
       "  <th>Covariance Type:</th>      <td>nonrobust</td>    <th>                     </th>     <td> </td>   \n",
       "</tr>\n",
       "</table>\n",
       "<table class=\"simpletable\">\n",
       "<tr>\n",
       "      <td></td>         <th>coef</th>     <th>std err</th>      <th>t</th>      <th>P>|t|</th>  <th>[0.025</th>    <th>0.975]</th>  \n",
       "</tr>\n",
       "<tr>\n",
       "  <th>Intercept</th> <td>   12.3514</td> <td>    0.621</td> <td>   19.876</td> <td> 0.000</td> <td>   11.126</td> <td>   13.577</td>\n",
       "</tr>\n",
       "<tr>\n",
       "  <th>Newspaper</th> <td>    0.0547</td> <td>    0.017</td> <td>    3.300</td> <td> 0.001</td> <td>    0.022</td> <td>    0.087</td>\n",
       "</tr>\n",
       "</table>\n",
       "<table class=\"simpletable\">\n",
       "<tr>\n",
       "  <th>Omnibus:</th>       <td> 6.231</td> <th>  Durbin-Watson:     </th> <td>   1.983</td>\n",
       "</tr>\n",
       "<tr>\n",
       "  <th>Prob(Omnibus):</th> <td> 0.044</td> <th>  Jarque-Bera (JB):  </th> <td>   5.483</td>\n",
       "</tr>\n",
       "<tr>\n",
       "  <th>Skew:</th>          <td> 0.330</td> <th>  Prob(JB):          </th> <td>  0.0645</td>\n",
       "</tr>\n",
       "<tr>\n",
       "  <th>Kurtosis:</th>      <td> 2.527</td> <th>  Cond. No.          </th> <td>    64.7</td>\n",
       "</tr>\n",
       "</table><br/><br/>Warnings:<br/>[1] Standard Errors assume that the covariance matrix of the errors is correctly specified."
      ],
      "text/plain": [
       "<class 'statsmodels.iolib.summary.Summary'>\n",
       "\"\"\"\n",
       "                            OLS Regression Results                            \n",
       "==============================================================================\n",
       "Dep. Variable:                  Sales   R-squared:                       0.052\n",
       "Model:                            OLS   Adj. R-squared:                  0.047\n",
       "Method:                 Least Squares   F-statistic:                     10.89\n",
       "Date:                Thu, 17 Oct 2019   Prob (F-statistic):            0.00115\n",
       "Time:                        17:07:51   Log-Likelihood:                -608.34\n",
       "No. Observations:                 200   AIC:                             1221.\n",
       "Df Residuals:                     198   BIC:                             1227.\n",
       "Df Model:                           1                                         \n",
       "Covariance Type:            nonrobust                                         \n",
       "==============================================================================\n",
       "                 coef    std err          t      P>|t|      [0.025      0.975]\n",
       "------------------------------------------------------------------------------\n",
       "Intercept     12.3514      0.621     19.876      0.000      11.126      13.577\n",
       "Newspaper      0.0547      0.017      3.300      0.001       0.022       0.087\n",
       "==============================================================================\n",
       "Omnibus:                        6.231   Durbin-Watson:                   1.983\n",
       "Prob(Omnibus):                  0.044   Jarque-Bera (JB):                5.483\n",
       "Skew:                           0.330   Prob(JB):                       0.0645\n",
       "Kurtosis:                       2.527   Cond. No.                         64.7\n",
       "==============================================================================\n",
       "\n",
       "Warnings:\n",
       "[1] Standard Errors assume that the covariance matrix of the errors is correctly specified.\n",
       "\"\"\""
      ]
     },
     "execution_count": 30,
     "metadata": {},
     "output_type": "execute_result"
    }
   ],
   "source": [
    "model1.summary()"
   ]
  },
  {
   "cell_type": "code",
   "execution_count": 31,
   "metadata": {},
   "outputs": [
    {
     "data": {
      "text/html": [
       "<table class=\"simpletable\">\n",
       "<caption>OLS Regression Results</caption>\n",
       "<tr>\n",
       "  <th>Dep. Variable:</th>          <td>Sales</td>      <th>  R-squared:         </th> <td>   0.897</td>\n",
       "</tr>\n",
       "<tr>\n",
       "  <th>Model:</th>                   <td>OLS</td>       <th>  Adj. R-squared:    </th> <td>   0.896</td>\n",
       "</tr>\n",
       "<tr>\n",
       "  <th>Method:</th>             <td>Least Squares</td>  <th>  F-statistic:       </th> <td>   570.3</td>\n",
       "</tr>\n",
       "<tr>\n",
       "  <th>Date:</th>             <td>Thu, 17 Oct 2019</td> <th>  Prob (F-statistic):</th> <td>1.58e-96</td>\n",
       "</tr>\n",
       "<tr>\n",
       "  <th>Time:</th>                 <td>17:08:08</td>     <th>  Log-Likelihood:    </th> <td> -386.18</td>\n",
       "</tr>\n",
       "<tr>\n",
       "  <th>No. Observations:</th>      <td>   200</td>      <th>  AIC:               </th> <td>   780.4</td>\n",
       "</tr>\n",
       "<tr>\n",
       "  <th>Df Residuals:</th>          <td>   196</td>      <th>  BIC:               </th> <td>   793.6</td>\n",
       "</tr>\n",
       "<tr>\n",
       "  <th>Df Model:</th>              <td>     3</td>      <th>                     </th>     <td> </td>   \n",
       "</tr>\n",
       "<tr>\n",
       "  <th>Covariance Type:</th>      <td>nonrobust</td>    <th>                     </th>     <td> </td>   \n",
       "</tr>\n",
       "</table>\n",
       "<table class=\"simpletable\">\n",
       "<tr>\n",
       "      <td></td>         <th>coef</th>     <th>std err</th>      <th>t</th>      <th>P>|t|</th>  <th>[0.025</th>    <th>0.975]</th>  \n",
       "</tr>\n",
       "<tr>\n",
       "  <th>Intercept</th> <td>    2.9389</td> <td>    0.312</td> <td>    9.422</td> <td> 0.000</td> <td>    2.324</td> <td>    3.554</td>\n",
       "</tr>\n",
       "<tr>\n",
       "  <th>Newspaper</th> <td>   -0.0010</td> <td>    0.006</td> <td>   -0.177</td> <td> 0.860</td> <td>   -0.013</td> <td>    0.011</td>\n",
       "</tr>\n",
       "<tr>\n",
       "  <th>Radio</th>     <td>    0.1885</td> <td>    0.009</td> <td>   21.893</td> <td> 0.000</td> <td>    0.172</td> <td>    0.206</td>\n",
       "</tr>\n",
       "<tr>\n",
       "  <th>TV</th>        <td>    0.0458</td> <td>    0.001</td> <td>   32.809</td> <td> 0.000</td> <td>    0.043</td> <td>    0.049</td>\n",
       "</tr>\n",
       "</table>\n",
       "<table class=\"simpletable\">\n",
       "<tr>\n",
       "  <th>Omnibus:</th>       <td>60.414</td> <th>  Durbin-Watson:     </th> <td>   2.084</td>\n",
       "</tr>\n",
       "<tr>\n",
       "  <th>Prob(Omnibus):</th> <td> 0.000</td> <th>  Jarque-Bera (JB):  </th> <td> 151.241</td>\n",
       "</tr>\n",
       "<tr>\n",
       "  <th>Skew:</th>          <td>-1.327</td> <th>  Prob(JB):          </th> <td>1.44e-33</td>\n",
       "</tr>\n",
       "<tr>\n",
       "  <th>Kurtosis:</th>      <td> 6.332</td> <th>  Cond. No.          </th> <td>    454.</td>\n",
       "</tr>\n",
       "</table><br/><br/>Warnings:<br/>[1] Standard Errors assume that the covariance matrix of the errors is correctly specified."
      ],
      "text/plain": [
       "<class 'statsmodels.iolib.summary.Summary'>\n",
       "\"\"\"\n",
       "                            OLS Regression Results                            \n",
       "==============================================================================\n",
       "Dep. Variable:                  Sales   R-squared:                       0.897\n",
       "Model:                            OLS   Adj. R-squared:                  0.896\n",
       "Method:                 Least Squares   F-statistic:                     570.3\n",
       "Date:                Thu, 17 Oct 2019   Prob (F-statistic):           1.58e-96\n",
       "Time:                        17:08:08   Log-Likelihood:                -386.18\n",
       "No. Observations:                 200   AIC:                             780.4\n",
       "Df Residuals:                     196   BIC:                             793.6\n",
       "Df Model:                           3                                         \n",
       "Covariance Type:            nonrobust                                         \n",
       "==============================================================================\n",
       "                 coef    std err          t      P>|t|      [0.025      0.975]\n",
       "------------------------------------------------------------------------------\n",
       "Intercept      2.9389      0.312      9.422      0.000       2.324       3.554\n",
       "Newspaper     -0.0010      0.006     -0.177      0.860      -0.013       0.011\n",
       "Radio          0.1885      0.009     21.893      0.000       0.172       0.206\n",
       "TV             0.0458      0.001     32.809      0.000       0.043       0.049\n",
       "==============================================================================\n",
       "Omnibus:                       60.414   Durbin-Watson:                   2.084\n",
       "Prob(Omnibus):                  0.000   Jarque-Bera (JB):              151.241\n",
       "Skew:                          -1.327   Prob(JB):                     1.44e-33\n",
       "Kurtosis:                       6.332   Cond. No.                         454.\n",
       "==============================================================================\n",
       "\n",
       "Warnings:\n",
       "[1] Standard Errors assume that the covariance matrix of the errors is correctly specified.\n",
       "\"\"\""
      ]
     },
     "execution_count": 31,
     "metadata": {},
     "output_type": "execute_result"
    }
   ],
   "source": [
    "model2= ols('Sales ~ Newspaper+Radio+TV',data=d).fit()   \n",
    "model2.summary()"
   ]
  },
  {
   "cell_type": "code",
   "execution_count": null,
   "metadata": {},
   "outputs": [],
   "source": [
    "from statsmodels.stats.multicomp import pairwise_tukeyhsd\n",
    "print(pairwise_tukeyhsd(d[\"Sales\"], \n",
    "                        d[\"Newspaper\"],alpha=0.05)) "
   ]
  }
 ],
 "metadata": {
  "kernelspec": {
   "display_name": "Python 3",
   "language": "python",
   "name": "python3"
  },
  "language_info": {
   "codemirror_mode": {
    "name": "ipython",
    "version": 3
   },
   "file_extension": ".py",
   "mimetype": "text/x-python",
   "name": "python",
   "nbconvert_exporter": "python",
   "pygments_lexer": "ipython3",
   "version": "3.7.3"
  }
 },
 "nbformat": 4,
 "nbformat_minor": 2
}
